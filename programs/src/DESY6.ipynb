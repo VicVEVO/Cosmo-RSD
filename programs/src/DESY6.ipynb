{
 "cells": [
  {
   "cell_type": "code",
   "execution_count": 23,
   "metadata": {},
   "outputs": [],
   "source": [
    "import numpy as np\n",
    "from matplotlib import pyplot as plt\n",
    "\n",
    "from numba import njit\n",
    "\n",
    "kappa = 3 / 4 * 0.0224 / (2.469*10**(-5)) # omega_b / 2.469*10**(-5)\n",
    "\n",
    "@njit\n",
    "def integral_trapezoid(func, a, b, N, H0, omega_m):\n",
    "    h = (b - a) / N\n",
    "    result = 0.5 * (func(a, H0, omega_m) + func(b, H0, omega_m))\n",
    "    for i in range(1, N):\n",
    "        result += func(a + i * h, H0, omega_m)\n",
    "    result *= h\n",
    "    return result\n",
    "\n",
    "@njit\n",
    "def H_LCDM(z, H0, omega_m):\n",
    "    return H0 * np.sqrt(omega_m * (1+z)**3 + (1 - omega_m))\n",
    "\n",
    "@njit\n",
    "def inv_H_LCDM(z, H0, omega_m):\n",
    "    return 1.0 / H_LCDM(z, H0, omega_m)\n",
    "\n",
    "@njit\n",
    "def cs_H(z, H0, omega_m):\n",
    "    z_shifted = z + 1\n",
    "    result = np.sqrt((z_shifted + kappa) * (omega_m * z_shifted**2 + (1 - omega_m) / z_shifted))\n",
    "    return 1.0 / result\n",
    "\n",
    "@njit\n",
    "def alpha(omega_m, H0):\n",
    "    frac_planck = 20.38\n",
    "    z = 0.851\n",
    "    sup = 985.0\n",
    "    N = 1300\n",
    "\n",
    "    I1 = integral_trapezoid(inv_H_LCDM, 0.0, z, 100, H0, omega_m)\n",
    "    I2 = integral_trapezoid(cs_H, z, sup, N, H0, omega_m)\n",
    "    return np.sqrt(3) * H0 * I1 / I2 / frac_planck"
   ]
  },
  {
   "cell_type": "code",
   "execution_count": 21,
   "metadata": {},
   "outputs": [],
   "source": [
    "def chi2_des(omega_m, H0):\n",
    "    alph = alpha(omega_m, H0)"
   ]
  },
  {
   "cell_type": "code",
   "execution_count": 24,
   "metadata": {},
   "outputs": [
    {
     "name": "stdout",
     "output_type": "stream",
     "text": [
      "alpha=0.1533277470451047 ([0.8, 1.2])\n"
     ]
    }
   ],
   "source": [
    "n_om = 50\n",
    "om_min = .05\n",
    "om_max = 1\n",
    "\n",
    "n_s8 = 50\n",
    "s8_min = 0.4\n",
    "s8_max = 1.2\n",
    "\n",
    "n_gamma = 50\n",
    "gamma_min = -0.5\n",
    "gamma_max = 2\n",
    "\n",
    "omega_vals = np.asarray(np.linspace(om_min, om_max, n_om))\n",
    "sigma_vals = np.asarray(np.linspace(s8_min, s8_max, n_s8))\n",
    "gamma_vals = np.asarray(np.linspace(gamma_min, gamma_max, n_gamma))\n",
    "\n",
    "# for omega_m in omega_vals:\n",
    "#     print(alpha(omega_m, H0=73.4))\n",
    "\n",
    "print(f\"alpha={alpha(omega_m=0.36, H0=73.4)} ([0.8, 1.2])\")"
   ]
  }
 ],
 "metadata": {
  "kernelspec": {
   "display_name": "virtual_env",
   "language": "python",
   "name": "python3"
  },
  "language_info": {
   "codemirror_mode": {
    "name": "ipython",
    "version": 3
   },
   "file_extension": ".py",
   "mimetype": "text/x-python",
   "name": "python",
   "nbconvert_exporter": "python",
   "pygments_lexer": "ipython3",
   "version": "3.13.5"
  }
 },
 "nbformat": 4,
 "nbformat_minor": 2
}
