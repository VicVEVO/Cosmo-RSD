{
 "cells": [
  {
   "cell_type": "code",
   "execution_count": 1,
   "metadata": {},
   "outputs": [],
   "source": [
    "import numpy as np\n",
    "\n",
    "from matplotlib import pyplot as plt\n",
    "from matplotlib.patches import Patch\n",
    "\n",
    "from classy import Class\n",
    "\n",
    "from iminuit import Minuit\n",
    "\n",
    "from numba import njit\n",
    "\n",
    "from functools import partial\n",
    "\n",
    "from joblib import Parallel, delayed\n",
    "\n",
    "import constants, functions\n",
    "\n",
    "# from matplotlib import cm  # colormaps\n",
    "# from matplotlib.colors import Normalize"
   ]
  },
  {
   "cell_type": "code",
   "execution_count": 2,
   "metadata": {},
   "outputs": [
    {
     "name": "stdout",
     "output_type": "stream",
     "text": [
      "alpha(0.36) = 1.01257\n"
     ]
    },
    {
     "data": {
      "image/png": "[encoded data removed]",
      "text/plain": [
       "<Figure size 640x480 with 1 Axes>"
      ]
     },
     "metadata": {},
     "output_type": "display_data"
    }
   ],
   "source": [
    "# Valeurs Planck fixes pour référence\n",
    "h_planck = 0.674\n",
    "omega_bh2 = 0.0224\n",
    "omega_m_planck = 0.315\n",
    "omega_cdm_planck = omega_m_planck * h_planck**2 - omega_bh2\n",
    "\n",
    "z_eff = 0.851\n",
    "\n",
    "# Calcule la valeur de (D_M / r_d) pour la cosmologie Planck pour normalisation\n",
    "def dm_over_rd_planck():\n",
    "    params_planck = {\n",
    "        'h': h_planck,\n",
    "        'omega_b': omega_bh2,\n",
    "        'omega_cdm': omega_cdm_planck,\n",
    "        'A_s': 2.1e-9,\n",
    "        'n_s': 0.965,\n",
    "        'tau_reio': 0.054,\n",
    "        'output': 'mPk',\n",
    "    }\n",
    "    cosmo = Class()\n",
    "    cosmo.set(params_planck)\n",
    "    cosmo.compute()\n",
    "    \n",
    "    DM = cosmo.angular_distance(z_eff) * (1 + z_eff)\n",
    "    rd = cosmo.rs_drag()\n",
    "    \n",
    "    cosmo.struct_cleanup()\n",
    "    cosmo.empty()\n",
    "    \n",
    "    return DM / rd\n",
    "\n",
    "# Fonction pour calculer alpha donné Omega_m\n",
    "def alpha(omega_m):\n",
    "    h = h_planck\n",
    "    omega_cdm = omega_m * h**2 - omega_bh2\n",
    "    \n",
    "    params = {\n",
    "        'h': h,\n",
    "        'omega_b': omega_bh2,\n",
    "        'omega_cdm': omega_cdm,\n",
    "        'A_s': 2.1e-9,\n",
    "        'n_s': 0.965,\n",
    "        'tau_reio': 0.054,\n",
    "        'output': 'mPk',\n",
    "    }\n",
    "    \n",
    "    cosmo = Class()\n",
    "    cosmo.set(params)\n",
    "    cosmo.compute()\n",
    "    \n",
    "    DM = cosmo.angular_distance(z_eff) * (1 + z_eff)\n",
    "    rd = cosmo.rs_drag()\n",
    "    \n",
    "    cosmo.struct_cleanup()\n",
    "    cosmo.empty()\n",
    "    \n",
    "    norm = dm_over_rd_planck()\n",
    "    alpha_val = (DM / rd) / norm\n",
    "    \n",
    "    return alpha_val\n",
    "\n",
    "# Exemple d'utilisation\n",
    "if __name__ == \"__main__\":\n",
    "    omega_m_test = 0.36\n",
    "    a = alpha(omega_m_test)\n",
    "    print(f\"alpha({omega_m_test}) = {a:.5f}\")\n",
    "\n",
    "    n_om = 100\n",
    "    om_min = .05\n",
    "    om_max = 1\n",
    "    omega_vals = np.asarray(np.linspace(om_min, om_max, n_om))\n",
    "    Y = []\n",
    "    for om in omega_vals:\n",
    "        Y.append(alpha(om))\n",
    "    plt.plot(omega_vals, Y)\n",
    "    plt.axhline(0.8, color='indigo', linestyle='--')\n",
    "    plt.axhline(1.2, color='indigo', linestyle='--')\n",
    "    plt.axvline(0.3, color='indigo', linestyle='--')\n",
    "    plt.axvline(0.4, color='indigo', linestyle='--')\n",
    "    plt.xlabel('Omega_m')\n",
    "    plt.ylabel('alpha')\n"
   ]
  },
  {
   "cell_type": "markdown",
   "metadata": {},
   "source": [
    "### Save data"
   ]
  },
  {
   "cell_type": "code",
   "execution_count": 10,
   "metadata": {},
   "outputs": [],
   "source": [
    "np.savez(\"../output/chi2_BAO/alphas.npz\", omega_vals = omega_vals, alphas=np.array(Y))"
   ]
  },
  {
   "cell_type": "markdown",
   "metadata": {},
   "source": [
    "### Load data"
   ]
  },
  {
   "cell_type": "code",
   "execution_count": 3,
   "metadata": {},
   "outputs": [],
   "source": [
    "data_BAO = np.load(\"../output/chi2_BAO/alphas.npz\")\n",
    "\n",
    "omega_vals = data_BAO['omega_vals']\n",
    "alphas = data_BAO['alphas']"
   ]
  },
  {
   "cell_type": "code",
   "execution_count": 4,
   "metadata": {},
   "outputs": [],
   "source": [
    "def load_likelihood_file(filename):\n",
    "    data = np.loadtxt(filename)\n",
    "    alpha_grid = data[:, 0]\n",
    "    likelihood_vals = data[:, 1]\n",
    "    return alpha_grid, likelihood_vals\n",
    "\n",
    "alpha_grid, likelihood_vals = load_likelihood_file(\"../data/DESY6BAO_likelihood/likelihood_acf.txt\")"
   ]
  },
  {
   "cell_type": "markdown",
   "metadata": {},
   "source": [
    "### Building chi2"
   ]
  },
  {
   "cell_type": "code",
   "execution_count": 10,
   "metadata": {},
   "outputs": [],
   "source": [
    "n_om = 10\n",
    "om_min = .25\n",
    "om_max = .5\n",
    "\n",
    "n_s8 = 10\n",
    "s8_min = 0.5\n",
    "s8_max = 1.05\n",
    "\n",
    "n_gamma = 10\n",
    "gamma_min = 0\n",
    "gamma_max = 1.2\n",
    "\n",
    "omega_vals = np.asarray(np.linspace(om_min, om_max, n_om))\n",
    "sigma_vals = np.asarray(np.linspace(s8_min, s8_max, n_s8))\n",
    "gamma_vals = np.asarray(np.linspace(gamma_min, gamma_max, n_gamma))"
   ]
  },
  {
   "cell_type": "code",
   "execution_count": 6,
   "metadata": {},
   "outputs": [],
   "source": [
    "@njit\n",
    "def get_best_alpha_index(omega, omega_vals, alpha_input, alpha_grid):\n",
    "    min_dist = 1e10\n",
    "    best_index = 0\n",
    "\n",
    "    for i in range(len(alpha_grid)):\n",
    "        d = abs(alpha_grid[i] - alpha_input)\n",
    "        if d < min_dist:\n",
    "            min_dist = d\n",
    "            best_index = i\n",
    "\n",
    "    return best_index\n",
    "\n",
    "@njit\n",
    "def chi2_bao(omega_m, omega_vals, alpha_input, alpha_grid, likelihood_vals):\n",
    "    idx = get_best_alpha_index(omega_m, omega_vals, alpha_input, alpha_grid)\n",
    "    # print(f\"omega {omega_m:5f} indice {idx}, alpha {alpha_grid[idx]}, deltachi2 {likelihood_vals[idx]}\")\n",
    "    return likelihood_vals[idx]\n",
    "    \n",
    "def chi2_rsd_panth_des(z_data, fs8_data, fs8_err_plus, fs8_err_minus, n_panth, z_data_panth, is_calibrator_panth, m_b_corr_panth, ceph_dist_panth, inv_cov_panth, omega_vals, alpha_grid, likelihood_vals, omega, sigma, gamma, H0, M, c):\n",
    "    alpha_input = alpha(omega)\n",
    "    return functions.chi2_rsd(z_data, fs8_data, fs8_err_plus, fs8_err_minus, omega, sigma, gamma) + functions.chi2_panth(n_panth, z_data_panth, is_calibrator_panth, m_b_corr_panth, ceph_dist_panth, inv_cov_panth, omega, H0, M, c) + chi2_bao(omega, omega_vals, alpha_input, alpha_grid, likelihood_vals)\n",
    "\n",
    "z_data = np.asarray(constants.z_data)\n",
    "fs8_data = np.asarray(constants.fs8_data)\n",
    "fs8_err_plus = np.asarray(constants.fs8_err_plus)\n",
    "fs8_err_minus = np.asarray(constants.fs8_err_minus)\n",
    "\n",
    "z_data_panth = np.asarray(constants.z_data_panth)\n",
    "is_calibrator_panth = np.asarray(constants.is_calibrator_panth)\n",
    "m_b_corr_panth = np.asarray(constants.m_b_corr_panth)\n",
    "ceph_dist_panth = np.asarray(constants.ceph_dist_panth)\n",
    "inv_cov_panth = np.asarray(constants.inv_cov_panth)\n",
    "n_panth = constants.n_panth\n",
    "c = constants.C\n",
    "\n",
    "chi2_func = partial(\n",
    "    chi2_rsd_panth_des,\n",
    "    z_data,\n",
    "    fs8_data,\n",
    "    fs8_err_plus,\n",
    "    fs8_err_minus,\n",
    "    n_panth,\n",
    "    z_data_panth,\n",
    "    is_calibrator_panth,\n",
    "    m_b_corr_panth,\n",
    "    ceph_dist_panth,\n",
    "    inv_cov_panth,\n",
    "    omega_vals,\n",
    "    alpha_grid,\n",
    "    likelihood_vals\n",
    ")"
   ]
  },
  {
   "cell_type": "code",
   "execution_count": 7,
   "metadata": {},
   "outputs": [],
   "source": [
    "from time import time\n",
    "\n",
    "def chi2_om_s8_func(omega, sigma, gamma_min, gamma_max, chi2_func):\n",
    "    minimizer = Minuit(chi2_func, omega=omega, sigma=sigma, gamma=0.55, H0 = 73.4, M=-19.25, c=constants.C)\n",
    "    minimizer.fixed[\"omega\"] = True\n",
    "    minimizer.fixed[\"sigma\"] = True\n",
    "    minimizer.limits[\"gamma\"] = (gamma_min, gamma_max)\n",
    "    minimizer.limits[\"H0\"] = (0, 200)\n",
    "    minimizer.fixed[\"M\"] = True\n",
    "    minimizer.fixed[\"c\"] = True\n",
    "    minimizer.migrad()\n",
    "    return minimizer.fval\n",
    "\n",
    "def chi2_om_gamma_func(omega, gamma, sigma_min, sigma_max, chi2_func):\n",
    "    minimizer = Minuit(chi2_func, omega=omega, gamma=gamma, sigma=0.7, H0 = 73.4, M=-19.25, c=constants.C)\n",
    "    minimizer.fixed[\"omega\"] = True\n",
    "    minimizer.fixed[\"gamma\"] = True\n",
    "    minimizer.limits[\"sigma\"] = (sigma_min, sigma_max)\n",
    "    minimizer.limits[\"H0\"] = (0, 200)\n",
    "    minimizer.fixed[\"M\"] = True\n",
    "    minimizer.fixed[\"c\"] = True\n",
    "    minimizer.migrad()\n",
    "    return minimizer.fval\n",
    "\n",
    "def chi2_s8_gamma_func(sigma, gamma, omega_min, omega_max, chi2_func):\n",
    "    minimizer = Minuit(chi2_func, sigma=sigma, gamma=gamma, omega=0.3, H0 = 73.4, M=-19.25, c=constants.C)\n",
    "    minimizer.fixed[\"sigma\"] = True\n",
    "    minimizer.fixed[\"gamma\"] = True\n",
    "    minimizer.limits[\"omega\"] = (omega_min, omega_max)\n",
    "    minimizer.limits[\"H0\"] = (0, 200)\n",
    "    minimizer.fixed[\"M\"] = True\n",
    "    minimizer.fixed[\"c\"] = True\n",
    "    minimizer.migrad()\n",
    "    return minimizer.fval"
   ]
  },
  {
   "cell_type": "code",
   "execution_count": 29,
   "metadata": {},
   "outputs": [
    {
     "name": "stdout",
     "output_type": "stream",
     "text": [
      "0.9825126748160224\n"
     ]
    },
    {
     "data": {
      "text/plain": [
       "0.9829145728643216"
      ]
     },
     "execution_count": 29,
     "metadata": {},
     "output_type": "execute_result"
    }
   ],
   "source": [
    "print(alpha(0.260000))\n",
    "alpha_grid[get_best_alpha_index(0.260000, omega_vals, alpha(0.260000), alpha_grid)]"
   ]
  },
  {
   "cell_type": "code",
   "execution_count": 24,
   "metadata": {},
   "outputs": [],
   "source": [
    "for omega in omega_vals:\n",
    "    if omega < .26:\n",
    "        chi2_om_s8_func(omega, 0.7, gamma_min, gamma_max, chi2_func)"
   ]
  },
  {
   "cell_type": "code",
   "execution_count": null,
   "metadata": {},
   "outputs": [],
   "source": [
    "t = time()\n",
    "chi2_om_sig8 = Parallel(n_jobs=-1)(delayed(chi2_om_s8_func)(omega, sigma, gamma_min, gamma_max, chi2_func) for omega in omega_vals for sigma in sigma_vals)\n",
    "chi2_grid1 = np.array(chi2_om_sig8).reshape(n_om, n_s8)\n",
    "np.savez(\"../output/chi2_BAO/chi2_grid1.npz\", grid1=chi2_grid1)\n",
    "t = time() - t\n",
    "print(\"chi2_grid 1 calculated in\", int(t//60), \"min\", round(t%60,1), \"s.\")\n",
    "\n",
    "# t = time()\n",
    "# chi2_om_gamma = Parallel(n_jobs=-1)(delayed(chi2_om_gamma_func)(omega, gamma, s8_min, s8_max, chi2_func) for omega in omega_vals for gamma in gamma_vals)\n",
    "# chi2_grid2 = np.array(chi2_om_gamma).reshape(n_om, n_gamma)\n",
    "# np.savez(\"../output/chi2_BAO/chi2_grid2.npz\", grid2=chi2_grid2)\n",
    "# t = time() - t\n",
    "# print(\"chi2_grid 2 calculated in\", int(t//60), \"min\", round(t%60,1), \"s.\")\n",
    "\n",
    "# t = time()\n",
    "# chi2_s8_gamma = Parallel(n_jobs=-1)(delayed(chi2_s8_gamma_func)(sigma, gamma, om_min, om_max, chi2_func) for sigma in sigma_vals for gamma in gamma_vals)\n",
    "# chi2_grid3 = np.array(chi2_s8_gamma).reshape(n_s8, n_gamma)\n",
    "# np.savez(\"../output/chi2_BAO/chi2_grid3.npz\", grid3=chi2_grid3)\n",
    "# t = time() - t\n",
    "# print(\"chi2_grid 3 calculated in\", int(t//60), \"min\", round(t%60,1), \"s.\")"
   ]
  },
  {
   "cell_type": "code",
   "execution_count": null,
   "metadata": {},
   "outputs": [],
   "source": [
    "chi2_grid2 = chi2_grid1\n",
    "chi2_grid3 = chi2_grid1"
   ]
  },
  {
   "cell_type": "markdown",
   "metadata": {},
   "source": [
    "### Confidence contours plot"
   ]
  },
  {
   "cell_type": "code",
   "execution_count": 32,
   "metadata": {},
   "outputs": [
    {
     "ename": "NameError",
     "evalue": "name 'chi2_grid2' is not defined",
     "output_type": "error",
     "traceback": [
      "\u001b[31m---------------------------------------------------------------------------\u001b[39m",
      "\u001b[31mNameError\u001b[39m                                 Traceback (most recent call last)",
      "\u001b[36mCell\u001b[39m\u001b[36m \u001b[39m\u001b[32mIn[32]\u001b[39m\u001b[32m, line 87\u001b[39m\n\u001b[32m     83\u001b[39m plt.rcParams.update({\n\u001b[32m     84\u001b[39m     \u001b[33m\"\u001b[39m\u001b[33mtext.usetex\u001b[39m\u001b[33m\"\u001b[39m: \u001b[38;5;28;01mTrue\u001b[39;00m\n\u001b[32m     85\u001b[39m })\n\u001b[32m     86\u001b[39m fig.suptitle(\u001b[33mr\u001b[39m\u001b[33m\"\u001b[39m\u001b[33m1$\u001b[39m\u001b[33m\\\u001b[39m\u001b[33msigma$, 2$\u001b[39m\u001b[33m\\\u001b[39m\u001b[33msigma$, 3$\u001b[39m\u001b[33m\\\u001b[39m\u001b[33msigma$ contours from $\u001b[39m\u001b[33m\\\u001b[39m\u001b[33mDelta \u001b[39m\u001b[33m\\\u001b[39m\u001b[33mchi^2$ minimization - $\u001b[39m\u001b[33m\\\u001b[39m\u001b[33mtextbf\u001b[39m\u001b[33m{\u001b[39m\u001b[33mRSD + Pantheon+ + DESY6}$\u001b[39m\u001b[33m\"\u001b[39m, fontsize=\u001b[32m16\u001b[39m)\n\u001b[32m---> \u001b[39m\u001b[32m87\u001b[39m display_all_chi2([chi2_grid1, \u001b[43mchi2_grid2\u001b[49m, chi2_grid3], axes)\n\u001b[32m     88\u001b[39m plt.tight_layout(rect=[\u001b[32m0\u001b[39m, \u001b[32m0.03\u001b[39m, \u001b[32m1\u001b[39m, \u001b[32m0.95\u001b[39m])\n\u001b[32m     89\u001b[39m plt.show()\n",
      "\u001b[31mNameError\u001b[39m: name 'chi2_grid2' is not defined"
     ]
    },
    {
     "data": {
      "image/png": "[encoded data removed]",
      "text/plain": [
       "<Figure size 1800x500 with 3 Axes>"
      ]
     },
     "metadata": {},
     "output_type": "display_data"
    }
   ],
   "source": [
    "def display_all_chi2(chi2_grids, axes):\n",
    "    levels = [2.3, 6.17, 11.8]\n",
    "    colors = ['khaki', 'lightsalmon', 'mediumpurple']\n",
    "\n",
    "    axes_titles = [\n",
    "        (r'$\\sigma_8$', r'$\\Omega_m$', 0),\n",
    "        (r'$\\gamma$', r'$\\Omega_m$', 1),\n",
    "        (r'$\\gamma$', r'$\\sigma_8$', 2)\n",
    "    ]\n",
    "\n",
    "    for ax, (xlabel, ylabel, axis) in zip(axes, axes_titles):\n",
    "        chi2_grid = chi2_grids[axis]\n",
    "        \n",
    "        sigma_vals = np.asarray(np.linspace(s8_min, s8_max, chi2_grid.shape[0]))\n",
    "        omega_vals = np.asarray(np.linspace(om_min, om_max, chi2_grid.shape[0]))\n",
    "        gamma_vals = np.asarray(np.linspace(gamma_min, gamma_max, chi2_grid.shape[0]))\n",
    "\n",
    "        if axis == 0:\n",
    "            X, Y = np.meshgrid(sigma_vals, omega_vals)\n",
    "        elif axis == 1:\n",
    "            X, Y = np.meshgrid(gamma_vals, omega_vals)\n",
    "        elif axis == 2:\n",
    "            X, Y = np.meshgrid(gamma_vals, sigma_vals)\n",
    "\n",
    "        chi2_min = np.min(chi2_grid)\n",
    "        delta_chi2 = chi2_grid - chi2_min\n",
    "\n",
    "        delta_chi2_clipped = np.clip(delta_chi2, a_min=None, a_max=levels[2])\n",
    "        \n",
    "        cf = ax.contourf(X, Y, delta_chi2_clipped, levels=100, cmap='inferno_r')\n",
    "        for level, color in zip(levels, colors):\n",
    "            cs = ax.contour(X, Y, delta_chi2, levels=[level], colors=[color], linewidths=2)\n",
    "\n",
    "            # Get incertitude\n",
    "            if level == 2.3:\n",
    "                mask = delta_chi2 <= level\n",
    "\n",
    "                x_coords = X[mask]\n",
    "                y_coords = Y[mask]\n",
    "\n",
    "                xmin, xmax = np.min(x_coords), np.max(x_coords)\n",
    "                ymin, ymax = np.min(y_coords), np.max(y_coords)\n",
    "\n",
    "        legend_handles = [\n",
    "            Patch(color='khaki', label=r'$1\\sigma$'),\n",
    "            Patch(color='lightsalmon', label=r'$2\\sigma$'),\n",
    "            Patch(color='mediumpurple', label=r'$3\\sigma$')\n",
    "        ]\n",
    "        ax.legend(handles=legend_handles, loc='upper right')\n",
    "\n",
    "        min_idx = np.unravel_index(np.argmin(delta_chi2), delta_chi2.shape)\n",
    "        x_min = X[min_idx]\n",
    "        y_min = Y[min_idx]\n",
    "        ax.plot(x_min, y_min, 'ko', label='Best-fit')\n",
    "        ax.axhline(y_min, color='indigo', linestyle='--')\n",
    "        ax.axvline(x_min, color='indigo', linestyle='--')\n",
    "\n",
    "        print((x_min, y_min))\n",
    "        print(f\"Incertitude {axes_titles[axis][0]} : xmin = {xmin:.2f}, xmax = {xmax:.2f} : (+{round(x_min - xmin, 2)}, -{round(xmax - x_min, 2)})\")\n",
    "        print(f\"Incertitude {axes_titles[axis][1]} : ymin = {ymin:.2f}, ymax = {ymax:.2f} : (+{round(y_min - ymin, 2)}, -{round(ymax - y_min, 2)})\\n\")\n",
    "\n",
    "        latex_text = fr\"({xlabel}, {ylabel}) : ({x_min:.2f}, {y_min:.2f})\"\n",
    "        ax.text(0.61, 0.1, latex_text, transform=ax.transAxes, color=\"white\", fontsize=14,\n",
    "                verticalalignment='top', horizontalalignment='left')\n",
    "\n",
    "        ax.set_xlabel(axes_titles[axis][0])\n",
    "        ax.set_ylabel(axes_titles[axis][1])\n",
    "\n",
    "        ax.set_facecolor('black')\n",
    "\n",
    "        if axis == 0:\n",
    "            ax.set_xlim([0.5, 1.03])\n",
    "            ax.set_ylim([0.25, 0.47])\n",
    "        elif axis == 1:\n",
    "            ax.set_xlim([-.1, 1.3])\n",
    "            ax.set_ylim([0.23, 0.5])\n",
    "        elif axis == 2:\n",
    "            ax.set_xlim([-0.1, 1.3])\n",
    "            ax.set_ylim([0.5, 1.1])\n",
    "\n",
    "\n",
    "fig, axes = plt.subplots(1, 3, figsize=(18, 5))\n",
    "plt.rcParams.update({\n",
    "    \"text.usetex\": True\n",
    "})\n",
    "fig.suptitle(r\"1$\\sigma$, 2$\\sigma$, 3$\\sigma$ contours from $\\Delta \\chi^2$ minimization - $\\textbf{RSD + Pantheon+ + DESY6}$\", fontsize=16)\n",
    "display_all_chi2([chi2_grid1, chi2_grid2, chi2_grid3], axes)\n",
    "plt.tight_layout(rect=[0, 0.03, 1, 0.95])\n",
    "plt.show()\n"
   ]
  }
 ],
 "metadata": {
  "kernelspec": {
   "display_name": "virtual_env",
   "language": "python",
   "name": "python3"
  },
  "language_info": {
   "codemirror_mode": {
    "name": "ipython",
    "version": 3
   },
   "file_extension": ".py",
   "mimetype": "text/x-python",
   "name": "python",
   "nbconvert_exporter": "python",
   "pygments_lexer": "ipython3",
   "version": "3.13.5"
  }
 },
 "nbformat": 4,
 "nbformat_minor": 2
}
