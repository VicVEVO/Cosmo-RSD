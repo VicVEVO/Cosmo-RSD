{
 "cells": [
  {
   "cell_type": "code",
   "execution_count": null,
   "metadata": {
    "vscode": {
     "languageId": "plaintext"
    }
   },
   "outputs": [],
   "source": [
    "nb_points_distrib = 50\n",
    "\n",
    "omega_m_list = np.linspace(0.1, 0.8, nb_points_distrib)\n",
    "gamma_list = np.linspace(0.2, 2.0, nb_points_distrib)\n",
    "\n",
    "chi2_grid_plot1= np.zeros((nb_points_distrib, nb_points_distrib))\n",
    "\n",
    "for i, omegam in enumerate(omega_m_list):\n",
    "    for j, gamma in enumerate(gamma_list):\n",
    "        chi2_grid_plot1[i, j] = calc_chi2_gamma_omega(omegam, gamma)\n",
    "        \n",
    "delta_chi2_grid_plot1 = chi2_grid_plot1 - np.min(chi2_grid_plot1)\n",
    "\n",
    "levels = [2.30, 6.18, 9.21]\n",
    "\n",
    "# Confidence Contour plot 1\n",
    "plt.figure(figsize=(8, 5))\n",
    "\n",
    "plt.contourf(omega_m_list, sigma_8_list, delta_chi2_grid_plot1.T, levels=[0, levels[0]], colors=['green'], alpha=1.0)\n",
    "plt.contourf(omega_m_list, sigma_8_list, delta_chi2_grid_plot1.T, levels=[levels[0], levels[1]], colors=['green'], alpha=0.5)\n",
    "plt.contourf(omega_m_list, sigma_8_list, delta_chi2_grid_plot1.T, levels=[levels[1], levels[2]], colors=['green'], alpha=0.2)\n",
    "\n",
    "patch1 = mpatches.Patch(color='green', alpha=1.0, label=r\"1$\\sigma$\")\n",
    "patch2 = mpatches.Patch(color='green', alpha=0.5, label=r\"2$\\sigma$\")\n",
    "patch3 = mpatches.Patch(color='green', alpha=0.2, label=r\"3$\\sigma$\")\n",
    "\n",
    "plt.xlabel(r\"$\\Omega_m$\", fontsize=20)\n",
    "plt.ylabel(r\"$\\gamma$\", fontsize=20)\n",
    "plt.grid(False)\n",
    "plt.tight_layout()\n",
    "plt.legend(handles=[patch1, patch2, patch3])\n",
    "plt.show()"
   ]
  }
 ],
 "metadata": {
  "language_info": {
   "name": "python"
  }
 },
 "nbformat": 4,
 "nbformat_minor": 2
}
