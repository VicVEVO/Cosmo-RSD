{
 "cells": [
  {
   "cell_type": "code",
   "execution_count": 1,
   "metadata": {},
   "outputs": [],
   "source": [
    "import numpy as np\n",
    "from iminuit import Minuit\n",
    "from scipy.integrate import quad\n",
    "\n",
    "import constants\n",
    "\n",
    "def dL(z, omega, H0):\n",
    "    borne = (omega/(1-omega)) ** (1/3)\n",
    "    X = 1 / (H0 * np.sqrt(1-omega))\n",
    "    def integrale(z_i):\n",
    "        res, _ = quad(lambda t: 1/np.sqrt(1 + t**3), borne, borne * (1+z_i))\n",
    "        return constants.C * (1+z_i) * X * res\n",
    "    return np.array([integrale(z_i) for z_i in np.atleast_1d(z)])\n",
    "\n",
    "def mu(z, omega, H0):\n",
    "    # Vérifie l'unité de dL !\n",
    "    return 5 * np.log10(dL(z, omega, H0)) + 25\n",
    "\n",
    "def chi2(omega, H0):\n",
    "    delta_mu = mu(constants.z_data_panth, omega, H0) - constants.mu_data_panth\n",
    "    variances = constants.cov_mat.to_numpy().flatten()\n",
    "    return np.sum((delta_mu**2) / variances)"
   ]
  },
  {
   "cell_type": "code",
   "execution_count": 2,
   "metadata": {},
   "outputs": [
    {
     "data": {
      "text/plain": [
       "np.float64(-0.03172511)"
      ]
     },
     "execution_count": 2,
     "metadata": {},
     "output_type": "execute_result"
    }
   ],
   "source": [
    "c = constants.cov_mat.to_numpy().flatten()\n",
    "np.min(c)"
   ]
  },
  {
   "cell_type": "code",
   "execution_count": 4,
   "metadata": {},
   "outputs": [
    {
     "ename": "ValueError",
     "evalue": "operands could not be broadcast together with shapes (1701,) (2893401,) ",
     "output_type": "error",
     "traceback": [
      "\u001b[31m---------------------------------------------------------------------------\u001b[39m",
      "\u001b[31mValueError\u001b[39m                                Traceback (most recent call last)",
      "\u001b[36mCell\u001b[39m\u001b[36m \u001b[39m\u001b[32mIn[4]\u001b[39m\u001b[32m, line 23\u001b[39m\n\u001b[32m     19\u001b[39m minimizer.limits[\u001b[33m\"\u001b[39m\u001b[33momega\u001b[39m\u001b[33m\"\u001b[39m] = (om_min,om_max)\n\u001b[32m     20\u001b[39m \u001b[38;5;66;03m# minimizer.limits[\"sigma\"] = (s8_min,s8_max)\u001b[39;00m\n\u001b[32m     21\u001b[39m \u001b[38;5;66;03m# minimizer.limits[\"gamma\"] = (gamma_min,gamma_max)\u001b[39;00m\n\u001b[32m---> \u001b[39m\u001b[32m23\u001b[39m result = \u001b[43mminimizer\u001b[49m\u001b[43m.\u001b[49m\u001b[43mmigrad\u001b[49m\u001b[43m(\u001b[49m\u001b[43m)\u001b[49m\n\u001b[32m     25\u001b[39m \u001b[38;5;28mprint\u001b[39m(\u001b[33mf\u001b[39m\u001b[33m\"\u001b[39m\u001b[38;5;130;01m\\n\u001b[39;00m\u001b[33mRésultats du fit :\u001b[39m\u001b[33m\"\u001b[39m)\n\u001b[32m     26\u001b[39m \u001b[38;5;28mprint\u001b[39m(\u001b[33mf\u001b[39m\u001b[33m\"\u001b[39m\u001b[33mChi2 = \u001b[39m\u001b[38;5;132;01m{\u001b[39;00mminimizer.fval\u001b[38;5;132;01m:\u001b[39;00m\u001b[33m.2f\u001b[39m\u001b[38;5;132;01m}\u001b[39;00m\u001b[33m \u001b[39m\u001b[38;5;130;01m\\n\u001b[39;00m\u001b[33m\"\u001b[39m)\n",
      "\u001b[36mFile \u001b[39m\u001b[32m~/Documents/Projects/Stage-irap/programs/virtual_env/lib/python3.13/site-packages/iminuit/minuit.py:789\u001b[39m, in \u001b[36mMinuit.migrad\u001b[39m\u001b[34m(self, ncall, iterate, use_simplex)\u001b[39m\n\u001b[32m    787\u001b[39m t = mutil._Timer(\u001b[38;5;28mself\u001b[39m._fmin)\n\u001b[32m    788\u001b[39m \u001b[38;5;28;01mwith\u001b[39;00m t:\n\u001b[32m--> \u001b[39m\u001b[32m789\u001b[39m     fm = \u001b[43m_robust_low_level_fit\u001b[49m\u001b[43m(\u001b[49m\n\u001b[32m    790\u001b[39m \u001b[43m        \u001b[49m\u001b[38;5;28;43mself\u001b[39;49m\u001b[43m.\u001b[49m\u001b[43m_fcn\u001b[49m\u001b[43m,\u001b[49m\n\u001b[32m    791\u001b[39m \u001b[43m        \u001b[49m\u001b[38;5;28;43mself\u001b[39;49m\u001b[43m.\u001b[49m\u001b[43m_last_state\u001b[49m\u001b[43m,\u001b[49m\n\u001b[32m    792\u001b[39m \u001b[43m        \u001b[49m\u001b[43mreplace_none\u001b[49m\u001b[43m(\u001b[49m\u001b[43mncall\u001b[49m\u001b[43m,\u001b[49m\u001b[43m \u001b[49m\u001b[32;43m0\u001b[39;49m\u001b[43m)\u001b[49m\u001b[43m,\u001b[49m\n\u001b[32m    793\u001b[39m \u001b[43m        \u001b[49m\u001b[38;5;28;43mself\u001b[39;49m\u001b[43m.\u001b[49m\u001b[43m_strategy\u001b[49m\u001b[43m,\u001b[49m\n\u001b[32m    794\u001b[39m \u001b[43m        \u001b[49m\u001b[38;5;28;43mself\u001b[39;49m\u001b[43m.\u001b[49m\u001b[43m_tolerance\u001b[49m\u001b[43m,\u001b[49m\n\u001b[32m    795\u001b[39m \u001b[43m        \u001b[49m\u001b[38;5;28;43mself\u001b[39;49m\u001b[43m.\u001b[49m\u001b[43m_precision\u001b[49m\u001b[43m,\u001b[49m\n\u001b[32m    796\u001b[39m \u001b[43m        \u001b[49m\u001b[43miterate\u001b[49m\u001b[43m,\u001b[49m\n\u001b[32m    797\u001b[39m \u001b[43m        \u001b[49m\u001b[43muse_simplex\u001b[49m\u001b[43m,\u001b[49m\n\u001b[32m    798\u001b[39m \u001b[43m    \u001b[49m\u001b[43m)\u001b[49m\n\u001b[32m    800\u001b[39m \u001b[38;5;28mself\u001b[39m._last_state = fm.state\n\u001b[32m    802\u001b[39m \u001b[38;5;28mself\u001b[39m._fmin = mutil.FMin(\n\u001b[32m    803\u001b[39m     fm,\n\u001b[32m    804\u001b[39m     \u001b[33m\"\u001b[39m\u001b[33mMigrad\u001b[39m\u001b[33m\"\u001b[39m,\n\u001b[32m   (...)\u001b[39m\u001b[32m    809\u001b[39m     t.value,\n\u001b[32m    810\u001b[39m )\n",
      "\u001b[36mFile \u001b[39m\u001b[32m~/Documents/Projects/Stage-irap/programs/virtual_env/lib/python3.13/site-packages/iminuit/minuit.py:2781\u001b[39m, in \u001b[36m_robust_low_level_fit\u001b[39m\u001b[34m(fcn, state, ncall, strategy, tolerance, precision, iterate, use_simplex)\u001b[39m\n\u001b[32m   2779\u001b[39m \u001b[38;5;28;01mif\u001b[39;00m precision \u001b[38;5;129;01mis\u001b[39;00m \u001b[38;5;129;01mnot\u001b[39;00m \u001b[38;5;28;01mNone\u001b[39;00m:\n\u001b[32m   2780\u001b[39m     migrad.precision = precision\n\u001b[32m-> \u001b[39m\u001b[32m2781\u001b[39m fm = \u001b[43mmigrad\u001b[49m\u001b[43m(\u001b[49m\u001b[43mncall\u001b[49m\u001b[43m,\u001b[49m\u001b[43m \u001b[49m\u001b[43mtolerance\u001b[49m\u001b[43m)\u001b[49m\n\u001b[32m   2782\u001b[39m strategy = MnStrategy(\u001b[32m2\u001b[39m)\n\u001b[32m   2783\u001b[39m migrad = MnMigrad(fcn, fm.state, strategy)\n",
      "\u001b[36mCell\u001b[39m\u001b[36m \u001b[39m\u001b[32mIn[1]\u001b[39m\u001b[32m, line 22\u001b[39m, in \u001b[36mchi2\u001b[39m\u001b[34m(omega, H0)\u001b[39m\n\u001b[32m     20\u001b[39m delta_mu = mu(constants.z_data_panth, omega, H0) - constants.mu_data_panth\n\u001b[32m     21\u001b[39m variances = constants.cov_mat.to_numpy().flatten()\n\u001b[32m---> \u001b[39m\u001b[32m22\u001b[39m \u001b[38;5;28;01mreturn\u001b[39;00m np.sum(\u001b[43m(\u001b[49m\u001b[43mdelta_mu\u001b[49m\u001b[43m*\u001b[49m\u001b[43m*\u001b[49m\u001b[32;43m2\u001b[39;49m\u001b[43m)\u001b[49m\u001b[43m \u001b[49m\u001b[43m/\u001b[49m\u001b[43m \u001b[49m\u001b[43mvariances\u001b[49m)\n",
      "\u001b[36mFile \u001b[39m\u001b[32m~/Documents/Projects/Stage-irap/programs/virtual_env/lib/python3.13/site-packages/pandas/core/ops/common.py:76\u001b[39m, in \u001b[36m_unpack_zerodim_and_defer.<locals>.new_method\u001b[39m\u001b[34m(self, other)\u001b[39m\n\u001b[32m     72\u001b[39m             \u001b[38;5;28;01mreturn\u001b[39;00m \u001b[38;5;28mNotImplemented\u001b[39m\n\u001b[32m     74\u001b[39m other = item_from_zerodim(other)\n\u001b[32m---> \u001b[39m\u001b[32m76\u001b[39m \u001b[38;5;28;01mreturn\u001b[39;00m \u001b[43mmethod\u001b[49m\u001b[43m(\u001b[49m\u001b[38;5;28;43mself\u001b[39;49m\u001b[43m,\u001b[49m\u001b[43m \u001b[49m\u001b[43mother\u001b[49m\u001b[43m)\u001b[49m\n",
      "\u001b[36mFile \u001b[39m\u001b[32m~/Documents/Projects/Stage-irap/programs/virtual_env/lib/python3.13/site-packages/pandas/core/arraylike.py:210\u001b[39m, in \u001b[36mOpsMixin.__truediv__\u001b[39m\u001b[34m(self, other)\u001b[39m\n\u001b[32m    208\u001b[39m \u001b[38;5;129m@unpack_zerodim_and_defer\u001b[39m(\u001b[33m\"\u001b[39m\u001b[33m__truediv__\u001b[39m\u001b[33m\"\u001b[39m)\n\u001b[32m    209\u001b[39m \u001b[38;5;28;01mdef\u001b[39;00m\u001b[38;5;250m \u001b[39m\u001b[34m__truediv__\u001b[39m(\u001b[38;5;28mself\u001b[39m, other):\n\u001b[32m--> \u001b[39m\u001b[32m210\u001b[39m     \u001b[38;5;28;01mreturn\u001b[39;00m \u001b[38;5;28;43mself\u001b[39;49m\u001b[43m.\u001b[49m\u001b[43m_arith_method\u001b[49m\u001b[43m(\u001b[49m\u001b[43mother\u001b[49m\u001b[43m,\u001b[49m\u001b[43m \u001b[49m\u001b[43moperator\u001b[49m\u001b[43m.\u001b[49m\u001b[43mtruediv\u001b[49m\u001b[43m)\u001b[49m\n",
      "\u001b[36mFile \u001b[39m\u001b[32m~/Documents/Projects/Stage-irap/programs/virtual_env/lib/python3.13/site-packages/pandas/core/series.py:6146\u001b[39m, in \u001b[36mSeries._arith_method\u001b[39m\u001b[34m(self, other, op)\u001b[39m\n\u001b[32m   6144\u001b[39m \u001b[38;5;28;01mdef\u001b[39;00m\u001b[38;5;250m \u001b[39m\u001b[34m_arith_method\u001b[39m(\u001b[38;5;28mself\u001b[39m, other, op):\n\u001b[32m   6145\u001b[39m     \u001b[38;5;28mself\u001b[39m, other = \u001b[38;5;28mself\u001b[39m._align_for_op(other)\n\u001b[32m-> \u001b[39m\u001b[32m6146\u001b[39m     \u001b[38;5;28;01mreturn\u001b[39;00m \u001b[43mbase\u001b[49m\u001b[43m.\u001b[49m\u001b[43mIndexOpsMixin\u001b[49m\u001b[43m.\u001b[49m\u001b[43m_arith_method\u001b[49m\u001b[43m(\u001b[49m\u001b[38;5;28;43mself\u001b[39;49m\u001b[43m,\u001b[49m\u001b[43m \u001b[49m\u001b[43mother\u001b[49m\u001b[43m,\u001b[49m\u001b[43m \u001b[49m\u001b[43mop\u001b[49m\u001b[43m)\u001b[49m\n",
      "\u001b[36mFile \u001b[39m\u001b[32m~/Documents/Projects/Stage-irap/programs/virtual_env/lib/python3.13/site-packages/pandas/core/base.py:1391\u001b[39m, in \u001b[36mIndexOpsMixin._arith_method\u001b[39m\u001b[34m(self, other, op)\u001b[39m\n\u001b[32m   1388\u001b[39m     rvalues = np.arange(rvalues.start, rvalues.stop, rvalues.step)\n\u001b[32m   1390\u001b[39m \u001b[38;5;28;01mwith\u001b[39;00m np.errstate(\u001b[38;5;28mall\u001b[39m=\u001b[33m\"\u001b[39m\u001b[33mignore\u001b[39m\u001b[33m\"\u001b[39m):\n\u001b[32m-> \u001b[39m\u001b[32m1391\u001b[39m     result = \u001b[43mops\u001b[49m\u001b[43m.\u001b[49m\u001b[43marithmetic_op\u001b[49m\u001b[43m(\u001b[49m\u001b[43mlvalues\u001b[49m\u001b[43m,\u001b[49m\u001b[43m \u001b[49m\u001b[43mrvalues\u001b[49m\u001b[43m,\u001b[49m\u001b[43m \u001b[49m\u001b[43mop\u001b[49m\u001b[43m)\u001b[49m\n\u001b[32m   1393\u001b[39m \u001b[38;5;28;01mreturn\u001b[39;00m \u001b[38;5;28mself\u001b[39m._construct_result(result, name=res_name)\n",
      "\u001b[36mFile \u001b[39m\u001b[32m~/Documents/Projects/Stage-irap/programs/virtual_env/lib/python3.13/site-packages/pandas/core/ops/array_ops.py:283\u001b[39m, in \u001b[36marithmetic_op\u001b[39m\u001b[34m(left, right, op)\u001b[39m\n\u001b[32m    279\u001b[39m     _bool_arith_check(op, left, right)  \u001b[38;5;66;03m# type: ignore[arg-type]\u001b[39;00m\n\u001b[32m    281\u001b[39m     \u001b[38;5;66;03m# error: Argument 1 to \"_na_arithmetic_op\" has incompatible type\u001b[39;00m\n\u001b[32m    282\u001b[39m     \u001b[38;5;66;03m# \"Union[ExtensionArray, ndarray[Any, Any]]\"; expected \"ndarray[Any, Any]\"\u001b[39;00m\n\u001b[32m--> \u001b[39m\u001b[32m283\u001b[39m     res_values = \u001b[43m_na_arithmetic_op\u001b[49m\u001b[43m(\u001b[49m\u001b[43mleft\u001b[49m\u001b[43m,\u001b[49m\u001b[43m \u001b[49m\u001b[43mright\u001b[49m\u001b[43m,\u001b[49m\u001b[43m \u001b[49m\u001b[43mop\u001b[49m\u001b[43m)\u001b[49m  \u001b[38;5;66;03m# type: ignore[arg-type]\u001b[39;00m\n\u001b[32m    285\u001b[39m \u001b[38;5;28;01mreturn\u001b[39;00m res_values\n",
      "\u001b[36mFile \u001b[39m\u001b[32m~/Documents/Projects/Stage-irap/programs/virtual_env/lib/python3.13/site-packages/pandas/core/ops/array_ops.py:218\u001b[39m, in \u001b[36m_na_arithmetic_op\u001b[39m\u001b[34m(left, right, op, is_cmp)\u001b[39m\n\u001b[32m    215\u001b[39m     func = partial(expressions.evaluate, op)\n\u001b[32m    217\u001b[39m \u001b[38;5;28;01mtry\u001b[39;00m:\n\u001b[32m--> \u001b[39m\u001b[32m218\u001b[39m     result = \u001b[43mfunc\u001b[49m\u001b[43m(\u001b[49m\u001b[43mleft\u001b[49m\u001b[43m,\u001b[49m\u001b[43m \u001b[49m\u001b[43mright\u001b[49m\u001b[43m)\u001b[49m\n\u001b[32m    219\u001b[39m \u001b[38;5;28;01mexcept\u001b[39;00m \u001b[38;5;167;01mTypeError\u001b[39;00m:\n\u001b[32m    220\u001b[39m     \u001b[38;5;28;01mif\u001b[39;00m \u001b[38;5;129;01mnot\u001b[39;00m is_cmp \u001b[38;5;129;01mand\u001b[39;00m (\n\u001b[32m    221\u001b[39m         left.dtype == \u001b[38;5;28mobject\u001b[39m \u001b[38;5;129;01mor\u001b[39;00m \u001b[38;5;28mgetattr\u001b[39m(right, \u001b[33m\"\u001b[39m\u001b[33mdtype\u001b[39m\u001b[33m\"\u001b[39m, \u001b[38;5;28;01mNone\u001b[39;00m) == \u001b[38;5;28mobject\u001b[39m\n\u001b[32m    222\u001b[39m     ):\n\u001b[32m   (...)\u001b[39m\u001b[32m    225\u001b[39m         \u001b[38;5;66;03m# Don't do this for comparisons, as that will handle complex numbers\u001b[39;00m\n\u001b[32m    226\u001b[39m         \u001b[38;5;66;03m#  incorrectly, see GH#32047\u001b[39;00m\n",
      "\u001b[36mFile \u001b[39m\u001b[32m~/Documents/Projects/Stage-irap/programs/virtual_env/lib/python3.13/site-packages/pandas/core/computation/expressions.py:242\u001b[39m, in \u001b[36mevaluate\u001b[39m\u001b[34m(op, a, b, use_numexpr)\u001b[39m\n\u001b[32m    239\u001b[39m \u001b[38;5;28;01mif\u001b[39;00m op_str \u001b[38;5;129;01mis\u001b[39;00m \u001b[38;5;129;01mnot\u001b[39;00m \u001b[38;5;28;01mNone\u001b[39;00m:\n\u001b[32m    240\u001b[39m     \u001b[38;5;28;01mif\u001b[39;00m use_numexpr:\n\u001b[32m    241\u001b[39m         \u001b[38;5;66;03m# error: \"None\" not callable\u001b[39;00m\n\u001b[32m--> \u001b[39m\u001b[32m242\u001b[39m         \u001b[38;5;28;01mreturn\u001b[39;00m \u001b[43m_evaluate\u001b[49m\u001b[43m(\u001b[49m\u001b[43mop\u001b[49m\u001b[43m,\u001b[49m\u001b[43m \u001b[49m\u001b[43mop_str\u001b[49m\u001b[43m,\u001b[49m\u001b[43m \u001b[49m\u001b[43ma\u001b[49m\u001b[43m,\u001b[49m\u001b[43m \u001b[49m\u001b[43mb\u001b[49m\u001b[43m)\u001b[49m  \u001b[38;5;66;03m# type: ignore[misc]\u001b[39;00m\n\u001b[32m    243\u001b[39m \u001b[38;5;28;01mreturn\u001b[39;00m _evaluate_standard(op, op_str, a, b)\n",
      "\u001b[36mFile \u001b[39m\u001b[32m~/Documents/Projects/Stage-irap/programs/virtual_env/lib/python3.13/site-packages/pandas/core/computation/expressions.py:73\u001b[39m, in \u001b[36m_evaluate_standard\u001b[39m\u001b[34m(op, op_str, a, b)\u001b[39m\n\u001b[32m     71\u001b[39m \u001b[38;5;28;01mif\u001b[39;00m _TEST_MODE:\n\u001b[32m     72\u001b[39m     _store_test_result(\u001b[38;5;28;01mFalse\u001b[39;00m)\n\u001b[32m---> \u001b[39m\u001b[32m73\u001b[39m \u001b[38;5;28;01mreturn\u001b[39;00m \u001b[43mop\u001b[49m\u001b[43m(\u001b[49m\u001b[43ma\u001b[49m\u001b[43m,\u001b[49m\u001b[43m \u001b[49m\u001b[43mb\u001b[49m\u001b[43m)\u001b[49m\n",
      "\u001b[31mValueError\u001b[39m: operands could not be broadcast together with shapes (1701,) (2893401,) "
     ]
    }
   ],
   "source": [
    "n_om = 100\n",
    "om_min = .05\n",
    "om_max = 1\n",
    "\n",
    "n_s8 = 100\n",
    "s8_min = 0.4\n",
    "s8_max = 1.2\n",
    "\n",
    "n_gamma = 100\n",
    "gamma_min = -0.5\n",
    "gamma_max = 2\n",
    "\n",
    "omega_vals = np.asarray(np.linspace(om_min, om_max, n_om))\n",
    "sigma_vals = np.asarray(np.linspace(s8_min, s8_max, n_s8))\n",
    "gamma_vals = np.asarray(np.linspace(gamma_min, gamma_max, n_gamma))\n",
    "\n",
    "minimizer = Minuit(chi2, omega=0.315, H0=70)\n",
    "\n",
    "minimizer.limits[\"omega\"] = (om_min,om_max)\n",
    "# minimizer.limits[\"sigma\"] = (s8_min,s8_max)\n",
    "# minimizer.limits[\"gamma\"] = (gamma_min,gamma_max)\n",
    "\n",
    "result = minimizer.migrad()\n",
    "\n",
    "print(f\"\\nRésultats du fit :\")\n",
    "print(f\"Chi2 = {minimizer.fval:.2f} \\n\")\n",
    "print(f\"Paramètres estimés :\")\n",
    "print(f\"Ωm = {minimizer.values['omega']:.3f} ± {minimizer.errors['omega']:.4f}\")\n",
    "print(f\"H0 = {minimizer.values['H0']:.3f} ± {minimizer.errors['h0']:.4f}\")\n",
    "# print(f\"σ8,0 = {minimizer.values['sigma']:.3f} ± {minimizer.errors['sigma']:.4f}\")\n",
    "# print(f\"γ = {minimizer.values['gamma']:.3f} ± {minimizer.errors['gamma']:.3f}\\n\")\n",
    "\n",
    "print(result)"
   ]
  },
  {
   "cell_type": "code",
   "execution_count": 32,
   "metadata": {},
   "outputs": [
    {
     "name": "stdout",
     "output_type": "stream",
     "text": [
      "Primitive (elliptique) : 1.8784991938778408\n",
      "Primitive (quad)       : 0.09998750535401997\n"
     ]
    }
   ],
   "source": [
    "from scipy.special import ellipkinc\n",
    "from scipy.integrate import quad\n",
    "import numpy as np\n",
    "\n",
    "from matplotlib import pyplot as plt\n",
    "\n",
    "def primitive(x):\n",
    "    x = np.asarray(x)\n",
    "    assert np.all(x > 0), \"Cette fonction n'est définie que pour x > 0\"\n",
    "    phi = np.arcsin(np.sqrt((x * (x + 1)) / (x + (x + 1)**2)))\n",
    "    k = 1 / np.sqrt(2)\n",
    "    return 2 / np.sqrt(x) * ellipkinc(phi, k)\n",
    "\n",
    "# Vérification\n",
    "x = 0.1\n",
    "print(\"Primitive (elliptique) :\", primitive(x))\n",
    "print(\"Primitive (quad)       :\", quad(lambda t: 1/np.sqrt(1 + t**3), 0, x)[0])\n"
   ]
  }
 ],
 "metadata": {
  "kernelspec": {
   "display_name": "virtual_env",
   "language": "python",
   "name": "python3"
  },
  "language_info": {
   "codemirror_mode": {
    "name": "ipython",
    "version": 3
   },
   "file_extension": ".py",
   "mimetype": "text/x-python",
   "name": "python",
   "nbconvert_exporter": "python",
   "pygments_lexer": "ipython3",
   "version": "3.13.5"
  }
 },
 "nbformat": 4,
 "nbformat_minor": 2
}
