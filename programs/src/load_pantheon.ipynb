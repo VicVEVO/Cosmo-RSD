{
 "cells": [
  {
   "cell_type": "code",
   "execution_count": 14,
   "metadata": {},
   "outputs": [],
   "source": [
    "import numpy as np\n",
    "from iminuit import Minuit\n",
    "from scipy.integrate import quad\n",
    "\n",
    "from iminuit import Minuit\n",
    "\n",
    "import constants, functions\n",
    "\n",
    "n_panth = 1701\n",
    "cov_mat = np.array(constants.cov_mat).reshape(n_panth, n_panth)\n",
    "\n",
    "def dL(z, omega, H0):\n",
    "    borne = (omega/(1-omega)) ** (1/3)\n",
    "    X = 1 / (H0 * np.sqrt(1-omega))\n",
    "    def integrale(z_i):\n",
    "        res, _ = quad(lambda t: 1/np.sqrt(1 + t**3), borne, borne * (1+z_i))\n",
    "        return constants.C * (1+z_i) * X * res\n",
    "    return np.array([integrale(z_i) for z_i in np.atleast_1d(z)])\n",
    "\n",
    "def mu(z, omega, H0):\n",
    "    return 5 * np.log10(dL(z, omega, H0)) + 25\n",
    "\n",
    "def chi2_panth(omega, H0, M):\n",
    "    delta_mu = np.empty(n_panth)\n",
    "\n",
    "    for i in range(n_panth):\n",
    "        if constants.is_calibrator_panth[i] == 0:\n",
    "            delta_mu[i] = mu(constants.z_data_panth[i],omega, H0) - (constants.m_b_corr_panth[i] - M)\n",
    "        else:\n",
    "            delta_mu[i] = (constants.m_b_corr_panth[i] - M) - constants.ceph_dist_panth[i]\n",
    "\n",
    "    delta_mu = mu(constants.z_data_panth, omega, H0) - constants.mu_data_panth\n",
    "    return np.dot(np.dot(cov_mat, delta_mu), delta_mu)\n",
    "\n",
    "def chi2_rsd(omega, sigma, gamma):\n",
    "    model = functions.growth(constants.z_data, gamma=gamma, omega_0=omega, sigma_8_0=sigma)\n",
    "\n",
    "    errors = np.asarray(0.5 * (constants.fs8_err_plus + constants.fs8_err_minus))\n",
    "    residuals = (model - constants.fs8_data.values) / errors\n",
    "    return np.sum(residuals**2)\n",
    "\n",
    "def chi2tot(omega, sigma, gamma, H0, M):\n",
    "    return chi2_rsd(omega, sigma, gamma) + chi2_panth(omega, H0, M)"
   ]
  },
  {
   "cell_type": "code",
   "execution_count": null,
   "metadata": {},
   "outputs": [
    {
     "name": "stderr",
     "output_type": "stream",
     "text": [
      "/tmp/ipykernel_22577/2324504931.py:28: DeprecationWarning: Conversion of an array with ndim > 0 to a scalar is deprecated, and will error in future. Ensure you extract a single element from your array before performing this operation. (Deprecated NumPy 1.25.)\n",
      "  delta_mu[i] = mu(constants.z_data_panth[i],omega, H0) - (constants.m_b_corr_panth[i] - M)\n",
      "/tmp/ipykernel_22577/2324504931.py:21: RuntimeWarning: invalid value encountered in log10\n",
      "  return 5 * np.log10(dL(z, omega, H0)) + 25\n",
      "/tmp/ipykernel_22577/2324504931.py:16: IntegrationWarning: The occurrence of roundoff error is detected, which prevents \n",
      "  the requested tolerance from being achieved.  The error may be \n",
      "  underestimated.\n",
      "  res, _ = quad(lambda t: 1/np.sqrt(1 + t**3), borne, borne * (1+z_i))\n"
     ]
    }
   ],
   "source": [
    "n_om = 100\n",
    "om_min = .05\n",
    "om_max = 1\n",
    "\n",
    "n_s8 = 100\n",
    "s8_min = 0.4\n",
    "s8_max = 1.2\n",
    "\n",
    "n_gamma = 100\n",
    "gamma_min = -0.5\n",
    "gamma_max = 2\n",
    "\n",
    "omega_vals = np.asarray(np.linspace(om_min, om_max, n_om))\n",
    "sigma_vals = np.asarray(np.linspace(s8_min, s8_max, n_s8))\n",
    "gamma_vals = np.asarray(np.linspace(gamma_min, gamma_max, n_gamma))\n",
    "\n",
    "minimizer = Minuit(chi2tot, omega=0.315, sigma=0.811, gamma=0.55, M=-19.25, H0 = 73.4)\n",
    "\n",
    "minimizer.limits[\"omega\"] = (om_min,om_max)\n",
    "minimizer.limits[\"sigma\"] = (s8_min,s8_max)\n",
    "minimizer.limits[\"gamma\"] = (gamma_min,gamma_max)\n",
    "\n",
    "result = minimizer.migrad()"
   ]
  },
  {
   "cell_type": "code",
   "execution_count": 24,
   "metadata": {},
   "outputs": [
    {
     "name": "stdout",
     "output_type": "stream",
     "text": [
      "\n",
      "Résultats du fit :\n",
      "Chi2 = 11373.28 \n",
      "\n",
      "Paramètres estimés :\n",
      "Ωm = 0.0500000000 ± 0.0000382471\n",
      "σ8,0 = 0.5359079619 ± 0.0558023641\n",
      "γ = 0.0600642048 ± 0.0518551977\n",
      "\n",
      "┌─────────────────────────────────────────────────────────────────────────┐\n",
      "│                                Migrad                                   │\n",
      "├──────────────────────────────────┬──────────────────────────────────────┤\n",
      "│ FCN = 1.137e+04                  │              Nfcn = 142              │\n",
      "│ EDM = 1.62e-06 (Goal: 0.0002)    │            time = 9.7 sec            │\n",
      "├──────────────────────────────────┼──────────────────────────────────────┤\n",
      "│          Valid Minimum           │   Below EDM threshold (goal x 10)    │\n",
      "├──────────────────────────────────┼──────────────────────────────────────┤\n",
      "│     SOME parameters at limit     │           Below call limit           │\n",
      "├──────────────────────────────────┼──────────────────────────────────────┤\n",
      "│             Hesse ok             │         Covariance accurate          │\n",
      "└──────────────────────────────────┴──────────────────────────────────────┘\n",
      "┌───┬───────┬───────────┬───────────┬────────────┬────────────┬─────────┬─────────┬───────┐\n",
      "│   │ Name  │   Value   │ Hesse Err │ Minos Err- │ Minos Err+ │ Limit-  │ Limit+  │ Fixed │\n",
      "├───┼───────┼───────────┼───────────┼────────────┼────────────┼─────────┼─────────┼───────┤\n",
      "│ 0 │ omega │ 50.00e-3  │  0.04e-3  │            │            │  0.05   │    1    │       │\n",
      "│ 1 │ sigma │   0.54    │   0.06    │            │            │   0.4   │   1.2   │       │\n",
      "│ 2 │ gamma │   0.06    │   0.05    │            │            │  -0.5   │    2    │       │\n",
      "│ 3 │ H0    │   73.4    │    0.7    │            │            │         │         │  yes  │\n",
      "│ 4 │ M     │  -19.25   │   0.19    │            │            │         │         │  yes  │\n",
      "└───┴───────┴───────────┴───────────┴────────────┴────────────┴─────────┴─────────┴───────┘\n",
      "┌───────┬────────────────────────────────────────────────────────┐\n",
      "│       │      omega      sigma      gamma         H0          M │\n",
      "├───────┼────────────────────────────────────────────────────────┤\n",
      "│ omega │   3.41e-15 -305.3e-15 -249.6e-15          0          0 │\n",
      "│ sigma │ -305.3e-15    0.00315     0.0028     0.0000     0.0000 │\n",
      "│ gamma │ -249.6e-15     0.0028    0.00269     0.0000     0.0000 │\n",
      "│    H0 │          0     0.0000     0.0000          0          0 │\n",
      "│     M │          0     0.0000     0.0000          0          0 │\n",
      "└───────┴────────────────────────────────────────────────────────┘\n"
     ]
    }
   ],
   "source": [
    "print(f\"\\nRésultats du fit :\")\n",
    "print(f\"Chi2 = {minimizer.fval:.2f} \\n\")\n",
    "print(f\"Paramètres estimés :\")\n",
    "print(f\"Ωm = {minimizer.values['omega']:.10f} ± {minimizer.errors['omega']:.10f}\")\n",
    "print(f\"σ8,0 = {minimizer.values['sigma']:.10f} ± {minimizer.errors['sigma']:.10f}\")\n",
    "print(f\"γ = {minimizer.values['gamma']:.10f} ± {minimizer.errors['gamma']:.10f}\\n\")\n",
    "print(f\"H0 = {minimizer.values['H0']:.10f} ± {minimizer.errors['H0']:.10f}\")\n",
    "print(f\"M = {minimizer.values['M']:.10f} ± {minimizer.errors['M']:.10f}\")\n",
    "\n",
    "print(result)"
   ]
  }
 ],
 "metadata": {
  "kernelspec": {
   "display_name": "virtual_env",
   "language": "python",
   "name": "python3"
  },
  "language_info": {
   "codemirror_mode": {
    "name": "ipython",
    "version": 3
   },
   "file_extension": ".py",
   "mimetype": "text/x-python",
   "name": "python",
   "nbconvert_exporter": "python",
   "pygments_lexer": "ipython3",
   "version": "3.13.5"
  }
 },
 "nbformat": 4,
 "nbformat_minor": 2
}
