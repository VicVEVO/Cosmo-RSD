{
 "cells": [
  {
   "cell_type": "code",
   "execution_count": 18,
   "metadata": {},
   "outputs": [],
   "source": [
    "import numpy as np\n",
    "from iminuit import Minuit\n",
    "from scipy.integrate import quad\n",
    "\n",
    "import constants\n",
    "\n",
    "### Inutile ici: on n'utilise pas Pantheon+ \n",
    "\n",
    "n_panth = 1701\n",
    "cov_mat = np.array(constants.cov_mat).reshape(n_panth, n_panth)\n",
    "\n",
    "def dL(z, omega, H0):\n",
    "    borne = (omega/(1-omega)) ** (1/3)\n",
    "    X = 1 / (H0 * np.sqrt(1-omega))\n",
    "    def integrale(z_i):\n",
    "        res, _ = quad(lambda t: 1/np.sqrt(1 + t**3), borne, borne * (1+z_i))\n",
    "        return constants.C * (1+z_i) * X * res\n",
    "    return np.array([integrale(z_i) for z_i in np.atleast_1d(z)])\n",
    "\n",
    "def mu(z, omega, H0):\n",
    "    return 5 * np.log10(dL(z, omega, H0)) + 25\n",
    "\n",
    "def chi2(omega, H0, M):\n",
    "    delta_mu = np.empty(n_panth)\n",
    "\n",
    "    for i in range(n_panth):\n",
    "        if constants.is_calibrator_panth[i] == 0:\n",
    "            delta_mu[i] = mu(constants.z_data_panth[i],omega, H0) - (constants.m_b_corr_panth[i] - M)\n",
    "        else:\n",
    "            delta_mu[i] = (constants.m_b_corr_panth[i] - M) - constants.ceph_dist_panth[i]\n",
    "\n",
    "    delta_mu = mu(constants.z_data_panth, omega, H0) - constants.mu_data_panth\n",
    "    return np.dot(np.dot(cov_mat, delta_mu), delta_mu)"
   ]
  }
 ],
 "metadata": {
  "kernelspec": {
   "display_name": "virtual_env",
   "language": "python",
   "name": "python3"
  },
  "language_info": {
   "codemirror_mode": {
    "name": "ipython",
    "version": 3
   },
   "file_extension": ".py",
   "mimetype": "text/x-python",
   "name": "python",
   "nbconvert_exporter": "python",
   "pygments_lexer": "ipython3",
   "version": "3.13.5"
  }
 },
 "nbformat": 4,
 "nbformat_minor": 2
}
