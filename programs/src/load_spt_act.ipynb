{
 "cells": [
  {
   "cell_type": "code",
   "execution_count": 23,
   "metadata": {},
   "outputs": [],
   "source": [
    "import numpy as np\n",
    "from iminuit import Minuit\n",
    "from classy import Class\n",
    "import act_dr6_spt_lenslike as apslike\n",
    "\n",
    "n_om = 100\n",
    "om_min = .05\n",
    "om_max = 1\n",
    "\n",
    "n_s8 = 100\n",
    "s8_min = 0.4\n",
    "s8_max = 1.2\n",
    "\n",
    "n_gamma = 100\n",
    "gamma_min = -0.5\n",
    "gamma_max = 2\n",
    "\n",
    "omega_vals = np.asarray(np.linspace(om_min, om_max, n_om))\n",
    "sigma_vals = np.asarray(np.linspace(s8_min, s8_max, n_s8))\n",
    "gamma_vals = np.asarray(np.linspace(gamma_min, gamma_max, n_gamma))"
   ]
  },
  {
   "cell_type": "code",
   "execution_count": 80,
   "metadata": {},
   "outputs": [],
   "source": [
    "params = {\n",
    "    'h': 0.674,\n",
    "    'omega_b': 0.022,\n",
    "    'omega_cdm': 0.12,\n",
    "    'A_s': 2.1e-9,\n",
    "    'n_s': 0.965,\n",
    "    'tau_reio': 0.054,\n",
    "    'output': 'tCl pCl lCl',\n",
    "    'lensing': 'yes'\n",
    "}\n",
    "\n",
    "cosmo = Class()\n",
    "cosmo.set(params)\n",
    "cosmo.compute()\n",
    "\n",
    "lmax = 2999\n",
    "cls = cosmo.raw_cl(lmax)\n",
    "cl_pp = cls['pp'] * 1e12   # µK²\n",
    "ell = cls['ell']\n",
    "\n",
    "cl_kk_theory = 0.25 * (ell * (ell + 1))**2 * cl_pp\n",
    "\n",
    "cosmo.struct_cleanup()\n",
    "cosmo.empty()"
   ]
  },
  {
   "cell_type": "code",
   "execution_count": null,
   "metadata": {},
   "outputs": [
    {
     "name": "stdout",
     "output_type": "stream",
     "text": [
      "Loading ACT DR6 lensing likelihood v1.2...\n"
     ]
    }
   ],
   "source": [
    "def chi2_lensing(cl_kk_theory, data_binned_clkk, binmat_act, cinv):\n",
    "    model_binned = binmat_act @ cl_kk_theory\n",
    "    residual = data_binned_clkk - model_binned\n",
    "    return residual.T @ cinv @ residual\n",
    "\n",
    "variant = 'act_baseline'\n",
    "lens_only = False # use True if not combining with any primary CMB data\n",
    "like_corrections = True # should be False if lens_only is True\n",
    "\n",
    "data_dict = apslike.load_data(variant, lens_only=lens_only, like_corrections=like_corrections)\n",
    "\n",
    "data = data_dict['data_binned_clkk']\n",
    "binning_mat = data_dict['binmat_act']\n",
    "cov_mat_inv = data_dict['cinv']"
   ]
  },
  {
   "cell_type": "code",
   "execution_count": 82,
   "metadata": {},
   "outputs": [
    {
     "name": "stdout",
     "output_type": "stream",
     "text": [
      "(10,)\n",
      "(10, 3000)\n",
      "(10, 10)\n",
      "(10, 10)\n",
      "(3000,)\n",
      "1.8131678967820463e+27\n"
     ]
    }
   ],
   "source": [
    "# data_dict.keys()\n",
    "cl_kk_theory.shape\n",
    "\n",
    "for x in [data, binning_mat, cov_mat, cov_mat_inv, cl_kk_theory]:\n",
    "    print(x.shape)\n",
    "\n",
    "print(chi2_lensing(cl_kk_theory, data, binning_mat, cov_mat_inv))"
   ]
  },
  {
   "cell_type": "code",
   "execution_count": 10,
   "metadata": {},
   "outputs": [
    {
     "name": "stdout",
     "output_type": "stream",
     "text": [
      "Loading ACT DR6 lensing likelihood v1.2...\n"
     ]
    },
    {
     "name": "stderr",
     "output_type": "stream",
     "text": [
      "/home/vicpabo/Documents/Projects/Stage-irap/programs/virtual_env/lib/python3.13/site-packages/act_dr6_spt_lenslike/act_dr6_spt_lenslike.py:500: UserWarning: Hartlap correction to cinv: 0.9861635220125786\n",
      "  warnings.warn(f\"Hartlap correction to cinv: {hartlap_correction}\")\n"
     ]
    }
   ],
   "source": [
    "import act_dr6_spt_lenslike as apslike\n",
    "\n",
    "variant = 'act_baseline'\n",
    "lens_only = False # use True if not combining with any primary CMB data\n",
    "like_corrections = True # should be False if lens_only is True\n",
    "\n",
    "# Do this once\n",
    "data_dict = apslike.load_data(variant,lens_only=lens_only,like_corrections=like_corrections)\n",
    "# This dict will now have entries like `data_binned_clkk` (binned data vector), `cov`\n",
    "# (covariance matrix) and `binmat_act` (binning matrix to be applied to a theory\n",
    "# curve starting at ell=0).\n",
    "\n",
    "# Get cl_kk, cl_tt, cl_ee, cl_te, cl_bb predictions from your Boltzmann code.\n",
    "# These are the CMB lensing convergence spectra (not potential or deflection)\n",
    "# as well as the TT, EE, TE, BB CMB spectra (needed for likelihood corrections)\n",
    "# in uK^2 units. All of these are C_ell (not D_ell), no ell or 2pi factors.\n",
    "# Then call\n",
    "# lnlike=apslike.generic_lnlike(data_dict,ell_kk,cl_kk,ell_cmb,cl_tt,cl_ee,cl_te,cl_bb)"
   ]
  }
 ],
 "metadata": {
  "kernelspec": {
   "display_name": "virtual_env",
   "language": "python",
   "name": "python3"
  },
  "language_info": {
   "codemirror_mode": {
    "name": "ipython",
    "version": 3
   },
   "file_extension": ".py",
   "mimetype": "text/x-python",
   "name": "python",
   "nbconvert_exporter": "python",
   "pygments_lexer": "ipython3",
   "version": "3.13.5"
  }
 },
 "nbformat": 4,
 "nbformat_minor": 2
}
