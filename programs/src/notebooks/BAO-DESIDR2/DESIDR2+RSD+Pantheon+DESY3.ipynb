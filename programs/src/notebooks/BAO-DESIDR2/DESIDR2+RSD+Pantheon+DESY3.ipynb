{
 "cells": [
  {
   "cell_type": "markdown",
   "metadata": {},
   "source": [
    "### Import libraries"
   ]
  },
  {
   "cell_type": "code",
   "execution_count": 1,
   "metadata": {},
   "outputs": [],
   "source": [
    "from matplotlib import pyplot as plt\n",
    "\n",
    "import numpy as np\n",
    "\n",
    "from time import time\n",
    "\n",
    "import seaborn as sns\n",
    "\n",
    "from iminuit import Minuit\n",
    "\n",
    "from functools import partial\n",
    "from numba import njit\n",
    "\n",
    "from joblib import Parallel, delayed\n",
    "\n",
    "from scipy.stats import gaussian_kde\n",
    "from scipy.stats import binned_statistic_2d\n",
    "\n",
    "from pathlib import Path\n",
    "import os, sys\n",
    "\n",
    "SRC_DIR = str(Path('.').resolve().parents[1])\n",
    "if str(SRC_DIR) not in sys.path:\n",
    "    sys.path.append(str(SRC_DIR))\n",
    "\n",
    "import utils"
   ]
  },
  {
   "cell_type": "markdown",
   "metadata": {},
   "source": [
    "### First Chi2 estimation for window"
   ]
  },
  {
   "cell_type": "code",
   "execution_count": 2,
   "metadata": {},
   "outputs": [],
   "source": [
    "N = 5\n",
    "is_highres = False\n",
    "n_om = N\n",
    "n_s8 = N\n",
    "n_gamma = N\n",
    "n_H0 = N\n",
    "n_rd = N\n",
    "\n",
    "H0_min = 50\n",
    "H0_max = 100\n",
    "rd_min = 100\n",
    "rd_max = 200\n",
    "M_min = -30\n",
    "M_max = -10\n",
    "\n",
    "if is_highres:\n",
    "    om_min = 0.250\n",
    "    om_max = 0.5\n",
    "    s8_min = 0.5\n",
    "    s8_max = 1.05\n",
    "    gamma_min = 0\n",
    "    gamma_max = 1.2\n",
    "    FOLDER = \"highres\"\n",
    "else:\n",
    "    om_min = .05\n",
    "    om_max = 1\n",
    "    s8_min = 0.4\n",
    "    s8_max = 1.2\n",
    "    gamma_min = -0.5\n",
    "    gamma_max = 2\n",
    "    FOLDER = \"lowres\"\n",
    "\n",
    "omega_m_vals = np.asarray(np.linspace(om_min, om_max, n_om))\n",
    "sigma_8_vals = np.asarray(np.linspace(s8_min, s8_max, n_s8))\n",
    "gamma_vals = np.asarray(np.linspace(gamma_min, gamma_max, n_gamma))\n",
    "\n",
    "rd_vals = np.asarray(np.linspace(rd_min, rd_max, n_rd))\n",
    "H0_vals = np.asarray(np.linspace(H0_min, H0_max, n_H0))\n",
    "\n",
    "min_Om_desy3, max_Om_desy3 = np.min(utils.Om_data_arico), np.max(utils.Om_data_arico)\n",
    "min_sigma8_desy3, max_sigma8_desy3 = np.min(utils.sigma8_data_arico), np.max(utils.sigma8_data_arico)\n",
    "\n",
    "X, Y = np.meshgrid(omega_m_vals, sigma_8_vals)\n",
    "positions = np.vstack([X.ravel(), Y.ravel()])\n",
    "\n",
    "values = np.vstack([utils.Om_data_arico, utils.sigma8_data_arico])\n",
    "kde = gaussian_kde(values)\n",
    "density = kde(positions).reshape(X.shape)\n",
    "\n",
    "P = density / np.max(density)\n",
    "with np.errstate(divide='ignore'):\n",
    "    delta_chi2_grid_desy3 = -2 * np.log(P)\n",
    "    delta_chi2_grid_desy3[np.isinf(delta_chi2_grid_desy3)] = np.nanmax(delta_chi2_grid_desy3) + 1\n",
    "\n",
    "@njit\n",
    "def find_index(x, x_array, delta_x):\n",
    "    \"\"\"Find corresponding index for x in an x_array array.\n",
    "\n",
    "    Args:\n",
    "        x (float): the x value we have\n",
    "            Must be between x_array[0] and x_array[-1]\n",
    "        x_array (numpy array): the array with all values of x\n",
    "            Must be linspace and sorted\n",
    "        delta_x (float): the precision of the linspace array\n",
    "\n",
    "    Returns:\n",
    "        int: the corresponding index\n",
    "    \"\"\"\n",
    "    return int((x - x_array[0]) / delta_x + 0.5)\n",
    "\n",
    "@njit\n",
    "def chi2_rsd_bao_sn1a_wl(omega_m_array, delta_omega_m, sigma_8_array, delta_sigma_8, z_data_rsd, z_data_panth, z_data_bao, fs8_data, fs8_err_plus, fs8_err_minus, dmrd_data, dmrd_err, n_panth, is_calibrator_panth, m_b_corr_panth, ceph_dist_panth, inv_cov_panth, c, chi2_desy3_grid, omega_m, sigma_8, gamma, rd, H0, M):\n",
    "    i_omega = find_index(omega_m, omega_m_array, delta_omega_m)\n",
    "    i_sigma = find_index(sigma_8, sigma_8_array, delta_sigma_8)\n",
    "    # return utils.chi2_rsd(z_data_rsd, fs8_data, fs8_err_plus, fs8_err_minus, omega, sigma, gamma) + utils.chi2_panth(n_panth, z_data_panth, is_calibrator_panth, m_b_corr_panth, ceph_dist_panth, inv_cov_panth, omega, H0, M, c)\n",
    "    # return utils.chi2_rsd(z_data_rsd, fs8_data, fs8_err_plus, fs8_err_minus, omega, sigma, gamma) + utils.chi2_bao_dmrd(z_data_bao, dmrd_data, dmrd_err, c, omega, rd, H0)\n",
    "    # return chi2_desy3_grid[i_sigma, i_omega]\n",
    "    return utils.chi2_functions.chi2_rsd(z_data_rsd, fs8_data, fs8_err_plus, fs8_err_minus, omega_m, sigma_8, gamma) + utils.chi2_functions.chi2_bao_dmrd(z_data_bao, dmrd_data, dmrd_err, c, omega_m, rd, H0) + utils.chi2_functions.chi2_panth(n_panth, z_data_panth, is_calibrator_panth, m_b_corr_panth, ceph_dist_panth, inv_cov_panth, omega_m, H0, M, c) + chi2_desy3_grid[i_omega, i_sigma]\n",
    "\n",
    "### Defining parameters\n",
    "delta_omega_m = omega_m_vals[1] - omega_m_vals[0]\n",
    "delta_sigma_8 = sigma_8_vals[1] - sigma_8_vals[0]\n",
    "\n",
    "delta_chi2_grid_desy3 = np.asarray(delta_chi2_grid_desy3)\n",
    "\n",
    "chi2_func = partial(\n",
    "    chi2_rsd_bao_sn1a_wl,\n",
    "    omega_m_vals,\n",
    "    delta_omega_m,\n",
    "    sigma_8_vals,\n",
    "    delta_sigma_8,\n",
    "    utils.z_data_rsd,\n",
    "    utils.z_data_panth,\n",
    "    utils.z_data_bao,\n",
    "    utils.fs8_data,\n",
    "    utils.fs8_err_plus,\n",
    "    utils.fs8_err_minus,\n",
    "    utils.Dmrd_data,\n",
    "    utils.Dmrd_err,\n",
    "    utils.n_panth,\n",
    "    utils.is_calibrator_panth,\n",
    "    utils.m_b_corr_panth,\n",
    "    utils.ceph_dist_panth,\n",
    "    utils.inv_cov_panth,\n",
    "    utils.C,\n",
    "    delta_chi2_grid_desy3\n",
    ")"
   ]
  },
  {
   "cell_type": "code",
   "execution_count": 4,
   "metadata": {},
   "outputs": [
    {
     "name": "stdout",
     "output_type": "stream",
     "text": [
      "Fit results (Chi2 = 1739.450):\n",
      "omega_m = 0.213 ± 0.007\n",
      "sigma_8 = 0.703 ± 0.050\n",
      "gamma = 0.310 ± 0.084\n",
      "rd = 147.400 ± 1.474\n",
      "H0 = 74.132 ± 0.169\n",
      "M = -19.250 ± 0.193\n",
      "┌─────────────────────────────────────────────────────────────────────────┐\n",
      "│                                Migrad                                   │\n",
      "├──────────────────────────────────┬──────────────────────────────────────┤\n",
      "│ FCN = 1739                       │              Nfcn = 123              │\n",
      "│ EDM = 7.7e-07 (Goal: 0.0002)     │            time = 0.2 sec            │\n",
      "├──────────────────────────────────┼──────────────────────────────────────┤\n",
      "│          Valid Minimum           │   Below EDM threshold (goal x 10)    │\n",
      "├──────────────────────────────────┼──────────────────────────────────────┤\n",
      "│      No parameters at limit      │           Below call limit           │\n",
      "├──────────────────────────────────┼──────────────────────────────────────┤\n",
      "│             Hesse ok             │         Covariance accurate          │\n",
      "└──────────────────────────────────┴──────────────────────────────────────┘\n",
      "┌───┬─────────┬───────────┬───────────┬────────────┬────────────┬─────────┬─────────┬───────┐\n",
      "│   │ Name    │   Value   │ Hesse Err │ Minos Err- │ Minos Err+ │ Limit-  │ Limit+  │ Fixed │\n",
      "├───┼─────────┼───────────┼───────────┼────────────┼────────────┼─────────┼─────────┼───────┤\n",
      "│ 0 │ omega_m │   0.213   │   0.007   │            │            │  0.05   │    1    │       │\n",
      "│ 1 │ sigma_8 │   0.70    │   0.05    │            │            │   0.4   │   1.2   │       │\n",
      "│ 2 │ gamma   │   0.31    │   0.08    │            │            │  -0.5   │    2    │       │\n",
      "│ 3 │ rd      │   147.4   │    1.5    │            │            │         │         │  yes  │\n",
      "│ 4 │ H0      │   74.13   │   0.17    │            │            │   50    │   100   │       │\n",
      "│ 5 │ M       │  -19.25   │   0.19    │            │            │         │         │  yes  │\n",
      "└───┴─────────┴───────────┴───────────┴────────────┴────────────┴─────────┴─────────┴───────┘\n",
      "┌─────────┬───────────────────────────────────────────────────────┐\n",
      "│         │  omega_m  sigma_8    gamma       rd       H0        M │\n",
      "├─────────┼───────────────────────────────────────────────────────┤\n",
      "│ omega_m │ 4.54e-05  0.02e-3  0.07e-3        0 -0.84e-3        0 │\n",
      "│ sigma_8 │  0.02e-3  0.00251   0.0040   0.0000  -0.0004   0.0000 │\n",
      "│   gamma │  0.07e-3   0.0040  0.00705    0.000   -0.001    0.000 │\n",
      "│      rd │        0   0.0000    0.000        0    0.000        0 │\n",
      "│      H0 │ -0.84e-3  -0.0004   -0.001    0.000   0.0287    0.000 │\n",
      "│       M │        0   0.0000    0.000        0    0.000        0 │\n",
      "└─────────┴───────────────────────────────────────────────────────┘\n"
     ]
    }
   ],
   "source": [
    "def get_params_used(is_used_list):\n",
    "      assert len(is_used_list)==6, ValueError(\n",
    "            f\"Expected a 6 booleans for the used parameters, got {len(is_used_list)}.\")\n",
    "      params_used = []\n",
    "      return [[\"omega_m\", is_used_list[0], (om_min, om_max)],\n",
    "                  [\"sigma_8\", is_used_list[1], (s8_min, s8_max)],\n",
    "                  [\"gamma\", is_used_list[2], (gamma_min, gamma_max)],\n",
    "                  [\"M\", is_used_list[3], (M_min, M_max)],\n",
    "                  [\"H0\", is_used_list[4], (H0_min, H0_max)],\n",
    "                  [\"rd\", is_used_list[5], (rd_min, rd_max)]]\n",
    "\n",
    "params_used = get_params_used([False, False, False, True, False, True])\n",
    "initial_params = {\"omega_m\":utils.OMEGAM_0, \"sigma_8\":utils.SIGMA_8_0, \"gamma\":utils.GAMMA, \"rd\":utils.RD, \"H0\":utils.H0, \"M\":utils.M}\n",
    "\n",
    "minimizer = utils.tools.get_minimizer(chi2_func, params_used, initial_params)\n",
    "result = minimizer.migrad()\n",
    "\n",
    "utils.tools.display_minimizer(minimizer)\n",
    "print(result)"
   ]
  },
  {
   "cell_type": "markdown",
   "metadata": {},
   "source": [
    "### Calculations"
   ]
  },
  {
   "cell_type": "code",
   "execution_count": null,
   "metadata": {},
   "outputs": [
    {
     "name": "stdout",
     "output_type": "stream",
     "text": [
      "chi2_grid 1 calculated in 0 min 26.7 s.\n",
      "chi2_grid 2 calculated in 0 min 11.1 s.\n",
      "chi2_grid 3 calculated in 0 min 9.6 s.\n"
     ]
    }
   ],
   "source": [
    "def chi2_om_s8_func(chi2_func, omega_m, sigma_8, params_used):\n",
    "    initial_params = {\"omega_m\":omega_m, \"sigma_8\":sigma_8, \"gamma\":utils.GAMMA, \"rd\":utils.RD, \"H0\":utils.H0, \"M\":utils.M}\n",
    "    minimizer = get_minimizer(chi2_func, params_used, initial_params)\n",
    "    minimizer.migrad()\n",
    "    return minimizer.fval\n",
    "\n",
    "def chi2_om_gamma_func(chi2_func, omega_m, gamma, params_used):\n",
    "    initial_params = {\"omega_m\":omega_m, \"sigma_8\":utils.SIGMA_8_0, \"gamma\":gamma, \"rd\":utils.RD, \"H0\":utils.H0, \"M\":utils.M}\n",
    "    minimizer = get_minimizer(chi2_func, params_used, initial_params)\n",
    "    minimizer.migrad()\n",
    "    return minimizer.fval\n",
    "\n",
    "def chi2_s8_gamma_func(chi2_func, sigma_8, gamma, params_used):\n",
    "    initial_params = {\"omega_m\":utils.OMEGAM_0, \"sigma_8\":sigma_8, \"gamma\":gamma, \"rd\":utils.RD, \"H0\":utils.H0, \"M\":utils.M}\n",
    "    minimizer = get_minimizer(chi2_func, params_used, initial_params)\n",
    "    minimizer.migrad()\n",
    "    return minimizer.fval\n",
    "\n",
    "t = time()\n",
    "params_used_om_s8 = get_params_used([True, True, False, False, False, True])\n",
    "chi2_om_s8 = Parallel(n_jobs=-1)(delayed(chi2_om_s8_func)(chi2_func, omega_m, sigma_8, params_used_om_s8) for sigma_8 in sigma_8_vals for omega_m in omega_m_vals)\n",
    "chi2_grid1 = np.array(chi2_om_s8).reshape(n_s8, n_om)\n",
    "t = time() - t\n",
    "print(\"chi2_grid 1 calculated in\", int(t//60), \"min\", round(t%60,1), \"s.\")\n",
    "\n",
    "# t = time()\n",
    "# params_used_om_gamma = get_params_used([True, False, True, False, False, True])\n",
    "# chi2_om_gamma = Parallel(n_jobs=-1)(delayed(chi2_om_gamma_func)(chi2_func, omega_m, gamma, params_used_om_gamma) for omega_m in omega_m_vals for gamma in gamma_vals)\n",
    "# chi2_grid2 = np.array(chi2_om_gamma).reshape(n_om, n_gamma)\n",
    "# t = time() - t\n",
    "# print(\"chi2_grid 2 calculated in\", int(t//60), \"min\", round(t%60,1), \"s.\")\n",
    "\n",
    "# t = time()\n",
    "# params_used_s8_gamma = get_params_used([False, True, True, False, False, True])\n",
    "# chi2_s8_gamma = Parallel(n_jobs=-1)(delayed(chi2_s8_gamma_func)(chi2_func, sigma_8, gamma, params_used_s8_gamma) for sigma_8 in sigma_8_vals for gamma in gamma_vals)\n",
    "# chi2_grid3 = np.array(chi2_s8_gamma).reshape(n_s8, n_gamma)\n",
    "# t = time() - t\n",
    "# print(\"chi2_grid 3 calculated in\", int(t  //60), \"min\", round(t%60,1), \"s.\")"
   ]
  },
  {
   "cell_type": "code",
   "execution_count": 29,
   "metadata": {},
   "outputs": [
    {
     "data": {
      "text/plain": [
       "PosixPath('/home/vicpabo/Documents/Projects/Stage-irap/programs/output')"
      ]
     },
     "execution_count": 29,
     "metadata": {},
     "output_type": "execute_result"
    }
   ],
   "source": [
    "project_root = Path(__file__).parents[2] if \"__file__\" in globals() else Path().resolve().parents[2]\n",
    "output_root = project_root / \"output\"\n",
    "\n",
    "utils.tools.save_grid(chi2_grid1, 1, output_root / \"4-chi2_RSD_PANTH_DESIDR2_DESY3\" / FOLDER)"
   ]
  },
  {
   "cell_type": "markdown",
   "metadata": {},
   "source": [
    "### Plot"
   ]
  },
  {
   "cell_type": "code",
   "execution_count": 8,
   "metadata": {},
   "outputs": [
    {
     "data": {
      "image/png": "[encoded data removed]",
      "text/plain": [
       "<Figure size 1000x500 with 3 Axes>"
      ]
     },
     "metadata": {},
     "output_type": "display_data"
    }
   ],
   "source": [
    "fig, ax = plt.subplots(1, 3, figsize=(10, 5))\n",
    "utils.tools.plot_chi2_contours(chi2_grid1, omega_m_vals, sigma_8_vals, [r\"$\\Omega_m$\", r\"$\\sigma_8$\"], ax=ax[0])\n",
    "# utils.tools.plot_chi2_contours(chi2_grid2, gamma_vals, sigma_8_vals, [r\"$\\gamma$\", r\"$\\sigma_8$\"], ax=ax[1])\n",
    "# utils.tools.plot_chi2_contours(chi2_grid3, gamma_vals, omega_m_vals, [r\"$\\gamma$\", r\"$\\Omega_m$\"], ax=ax[2])"
   ]
  }
 ],
 "metadata": {
  "kernelspec": {
   "display_name": "virtual_env",
   "language": "python",
   "name": "python3"
  },
  "language_info": {
   "codemirror_mode": {
    "name": "ipython",
    "version": 3
   },
   "file_extension": ".py",
   "mimetype": "text/x-python",
   "name": "python",
   "nbconvert_exporter": "python",
   "pygments_lexer": "ipython3",
   "version": "3.13.5"
  }
 },
 "nbformat": 4,
 "nbformat_minor": 2
}
