{
 "cells": [
  {
   "cell_type": "markdown",
   "metadata": {},
   "source": [
    "### Import libraries"
   ]
  },
  {
   "cell_type": "code",
   "execution_count": 1,
   "metadata": {},
   "outputs": [],
   "source": [
    "import numpy as np\n",
    "from iminuit import Minuit\n",
    "from classy import Class\n",
    "\n",
    "import constants, functions\n",
    "\n",
    "from functools import partial\n",
    "\n",
    "import act_dr6_spt_lenslike as apslike\n",
    "from joblib import Parallel, delayed\n",
    "\n",
    "from time import time\n",
    "\n",
    "from matplotlib import pyplot as plt\n",
    "from matplotlib.patches import Patch\n",
    "\n",
    "from numba import njit"
   ]
  },
  {
   "cell_type": "markdown",
   "metadata": {},
   "source": [
    "### Define axes"
   ]
  },
  {
   "cell_type": "code",
   "execution_count": 8,
   "metadata": {},
   "outputs": [],
   "source": [
    "n_om = 50\n",
    "n_s8 = 2\n",
    "n_gamma = 2\n",
    "\n",
    "om_min = .05\n",
    "om_max = 1\n",
    "\n",
    "s8_min = 0.4\n",
    "s8_max = 1.2\n",
    "\n",
    "gamma_min = -0.5\n",
    "gamma_max = 2\n",
    "\n",
    "omega_vals = np.asarray(np.linspace(om_min, om_max, n_om))\n",
    "sigma_vals = np.asarray(np.linspace(s8_min, s8_max, n_s8))\n",
    "gamma_vals = np.asarray(np.linspace(gamma_min, gamma_max, n_gamma))"
   ]
  },
  {
   "cell_type": "markdown",
   "metadata": {},
   "source": [
    "### Define functions and values"
   ]
  },
  {
   "cell_type": "code",
   "execution_count": 3,
   "metadata": {},
   "outputs": [
    {
     "name": "stdout",
     "output_type": "stream",
     "text": [
      "Loading ACT DR6 lensing likelihood v1.2...\n"
     ]
    },
    {
     "name": "stderr",
     "output_type": "stream",
     "text": [
      "/home/vicpabo/Documents/Projects/Stage-irap/programs/virtual_env/lib/python3.13/site-packages/act_dr6_spt_lenslike/act_dr6_spt_lenslike.py:500: UserWarning: Hartlap correction to cinv: 0.9861635220125786\n",
      "  warnings.warn(f\"Hartlap correction to cinv: {hartlap_correction}\")\n"
     ]
    },
    {
     "name": "stdout",
     "output_type": "stream",
     "text": [
      "Value kappa : 3.1009658203125e-09\n"
     ]
    }
   ],
   "source": [
    "z_data = np.asarray(constants.z_data)\n",
    "fs8_data = np.asarray(constants.fs8_data)\n",
    "fs8_err_plus = np.asarray(constants.fs8_err_plus)\n",
    "fs8_err_minus = np.asarray(constants.fs8_err_minus)\n",
    "\n",
    "z_data_panth = np.asarray(constants.z_data_panth)\n",
    "is_calibrator_panth = np.asarray(constants.is_calibrator_panth)\n",
    "m_b_corr_panth = np.asarray(constants.m_b_corr_panth)\n",
    "ceph_dist_panth = np.asarray(constants.ceph_dist_panth)\n",
    "inv_cov_panth = np.asarray(constants.inv_cov_panth)\n",
    "n_panth = constants.n_panth\n",
    "c = constants.C\n",
    "\n",
    "h=.674\n",
    "omega_b=.0224\n",
    "omega_cdm=.120\n",
    "n_s=.965\n",
    "tau_reio=.054\n",
    "\n",
    "variant = 'act_baseline'\n",
    "lens_only = False # use True if not combining with any primary CMB data\n",
    "like_corrections = True # should be False if lens_only is True\n",
    "\n",
    "data_dict = apslike.load_data(variant, lens_only=lens_only, like_corrections=like_corrections)\n",
    "\n",
    "data = data_dict['data_binned_clkk']\n",
    "binning_mat = data_dict['binmat_act']\n",
    "cov_mat_inv = data_dict['cinv']\n",
    "\n",
    "binmat = data_dict['binmat_act']\n",
    "clkk_data = data_dict['data_binned_clkk']\n",
    "cinv = data_dict['cinv']\n",
    "\n",
    "def find_As_for_sigma8(sigma8_target, h=0.674, omega_b=0.0224, omega_cdm=0.12, n_s=0.965, tau_reio=0.054, \n",
    "                       As_min=1e-12, As_max=5e-9, tol=1e-3, max_iter=30):\n",
    "    \"\"\" Dichotomy to find As s.a. sigma8 = sigma8_target.\n",
    "\n",
    "    Args:\n",
    "        sigma8_target (int, optional): Defaults to 1.\n",
    "        h (float, optional): Defaults to 0.674.\n",
    "        omega_b (float, optional): Defaults to 0.0224.\n",
    "        omega_cdm (float, optional): Defaults to 0.12.\n",
    "        n_s (float, optional): Defaults to 0.965.\n",
    "        tau_reio (float, optional): Defaults to 0.054.\n",
    "        As_min (_type_, optional): Defaults to 1e-12.\n",
    "        As_max (_type_, optional): Defaults to 5e-9.\n",
    "        tol (_type_, optional): Defaults to 1e-3.\n",
    "        max_iter (int, optional): Defaults to 30.\n",
    "    \"\"\"\n",
    "    def sigma8_for_As(As):\n",
    "        params = {\n",
    "            'output': 'lCl, mPk',\n",
    "            'l_max_scalars': 3000,\n",
    "            'h': h,\n",
    "            'omega_b': omega_b,\n",
    "            'omega_cdm': omega_cdm,\n",
    "            'n_s': n_s,\n",
    "            'A_s': As,\n",
    "            'tau_reio': tau_reio\n",
    "        }\n",
    "        \n",
    "        cosmo = Class()\n",
    "        cosmo.set(params)\n",
    "        cosmo.compute()\n",
    "        sigma8 = cosmo.sigma8()\n",
    "        cosmo.struct_cleanup()\n",
    "        cosmo.empty()\n",
    "        \n",
    "        return sigma8\n",
    "\n",
    "    for i in range(max_iter):\n",
    "        As_mid = 0.5 * (As_min + As_max)\n",
    "        sigma8_mid = sigma8_for_As(As_mid)\n",
    "\n",
    "        if abs(sigma8_mid - sigma8_target) < tol:\n",
    "            return As_mid \n",
    "\n",
    "        if sigma8_mid > sigma8_target:\n",
    "            As_max = As_mid\n",
    "        else:\n",
    "            As_min = As_mid\n",
    "\n",
    "kappa = find_As_for_sigma8(sigma8_target=1, tol=1e-4, max_iter=100)\n",
    "print(\"Value kappa :\", kappa)\n",
    "\n",
    "A_s_0 = kappa * (.811**2)\n",
    "A_s_min, A_s_max = kappa * (s8_min**2), kappa * (s8_max**2)\n",
    "\n",
    "def get_clkk(A_s):    \n",
    "\n",
    "    params = {\n",
    "        'output': 'lCl',\n",
    "        'l_max_scalars': 3001,\n",
    "        'h': h,\n",
    "        'omega_b': omega_b,\n",
    "        'omega_cdm': omega_cdm,\n",
    "        'n_s': n_s,\n",
    "        'A_s': A_s,\n",
    "        'tau_reio': tau_reio,\n",
    "    }\n",
    "    \n",
    "    cosmo = Class()\n",
    "    cosmo.set(params)\n",
    "    cosmo.compute()\n",
    "    cl = cosmo.raw_cl()\n",
    "    ell = cl['ell']\n",
    "    clpp = cl['pp']\n",
    "\n",
    "    clkk = (ell**2 * (ell + 1)**2) / 4 * clpp\n",
    "    \n",
    "    mask = (ell >= 2)\n",
    "    ell = ell[mask]\n",
    "    return clkk[mask]\n",
    "\n",
    "@njit\n",
    "def chi2_lensing(clkk_th, clkk_data, binmat, cinv):\n",
    "    clkk_th_binned = binmat @ clkk_th\n",
    "    delta = clkk_th_binned - clkk_data\n",
    "    return delta.T @ cinv @ delta\n",
    "\n",
    "@njit\n",
    "def chi2_rsd_panth_act(z_data, fs8_data, fs8_err_plus, fs8_err_minus, n_panth, z_data_panth, is_calibrator_panth, m_b_corr_panth, ceph_dist_panth, inv_cov_panth, omega, sigma, gamma, H0, M, c, clkk_th):\n",
    "    return chi2_lensing(clkk_th, clkk_data, binmat, cinv)\n",
    "\n",
    "def chi2_rsd_panth_act_free_omega(z_data, fs8_data, fs8_err_plus, fs8_err_minus, n_panth, z_data_panth, is_calibrator_panth, m_b_corr_panth, ceph_dist_panth, inv_cov_panth, omega, sigma, gamma, H0, M, c):\n",
    "    clkk_th = get_clkk(kappa * (omega**2))\n",
    "    return chi2_lensing(clkk_th, clkk_data, binmat, cinv)\n",
    "\n",
    "chi2_func = partial(\n",
    "    chi2_rsd_panth_act,\n",
    "    z_data,\n",
    "    fs8_data,\n",
    "    fs8_err_plus,\n",
    "    fs8_err_minus,\n",
    "    n_panth,\n",
    "    z_data_panth,\n",
    "    is_calibrator_panth,\n",
    "    m_b_corr_panth,\n",
    "    ceph_dist_panth,\n",
    "    inv_cov_panth\n",
    ")\n",
    "\n",
    "chi2_func_free_omega = partial(\n",
    "    chi2_rsd_panth_act_free_omega,\n",
    "    z_data,\n",
    "    fs8_data,\n",
    "    fs8_err_plus,\n",
    "    fs8_err_minus,\n",
    "    n_panth,\n",
    "    z_data_panth,\n",
    "    is_calibrator_panth,\n",
    "    m_b_corr_panth,\n",
    "    ceph_dist_panth,\n",
    "    inv_cov_panth\n",
    ")"
   ]
  },
  {
   "cell_type": "markdown",
   "metadata": {},
   "source": [
    "### Define Chi2 functions"
   ]
  },
  {
   "cell_type": "code",
   "execution_count": 6,
   "metadata": {},
   "outputs": [],
   "source": [
    "from time import time\n",
    "\n",
    "def chi2_om_s8_func(omega, sigma, gamma_min, gamma_max, chi2_func):\n",
    "    clkk_th = get_clkk(kappa * (omega**2))\n",
    "\n",
    "    def chi2_for_minuit(omega, sigma, gamma, H0, M, c):\n",
    "        return chi2_func(omega, sigma, gamma, H0, M, c, clkk_th)\n",
    "\n",
    "    minimizer = Minuit(chi2_for_minuit, omega=omega, sigma=sigma, gamma=0.55, H0 = 73.4, M=-19.25, c=constants.C)\n",
    "    minimizer.fixed[\"omega\"] = True\n",
    "    minimizer.fixed[\"sigma\"] = True\n",
    "    minimizer.limits[\"gamma\"] = (gamma_min, gamma_max)\n",
    "    minimizer.fixed[\"H0\"] = True\n",
    "    minimizer.fixed[\"M\"] = True\n",
    "    minimizer.fixed[\"c\"] = True\n",
    "    minimizer.migrad()\n",
    "    return minimizer.fval\n",
    "\n",
    "def chi2_om_gamma_func(omega, gamma, sigma_min, sigma_max, chi2_func):\n",
    "    clkk_th = get_clkk(kappa * (omega**2))\n",
    "\n",
    "    def chi2_for_minuit(omega, sigma, gamma, H0, M, c):\n",
    "        return chi2_func(omega, sigma, gamma, H0, M, c, clkk_th)\n",
    "\n",
    "    minimizer = Minuit(chi2_for_minuit, omega=omega, gamma=gamma, sigma=0.7, H0 = 73.4, M=-19.25, c=constants.C)\n",
    "    minimizer.fixed[\"omega\"] = True\n",
    "    minimizer.fixed[\"gamma\"] = True\n",
    "    minimizer.limits[\"sigma\"] = (sigma_min, sigma_max)\n",
    "    minimizer.fixed[\"H0\"] = True\n",
    "    minimizer.fixed[\"M\"] = True\n",
    "    minimizer.fixed[\"c\"] = True\n",
    "    minimizer.migrad()\n",
    "    return minimizer.fval\n",
    "\n",
    "def chi2_s8_gamma_func(sigma, gamma, omega_min, omega_max, chi2_func):\n",
    "    minimizer = Minuit(chi2_func, sigma=sigma, gamma=gamma, omega=0.3, H0 = 73.4, M=-19.25, c=constants.C)\n",
    "    minimizer.fixed[\"sigma\"] = True\n",
    "    minimizer.fixed[\"gamma\"] = True\n",
    "    minimizer.limits[\"omega\"] = (omega_min, omega_max)\n",
    "    minimizer.fixed[\"H0\"] = True\n",
    "    minimizer.fixed[\"M\"] = True\n",
    "    minimizer.fixed[\"c\"] = True\n",
    "    minimizer.migrad()\n",
    "    return minimizer.fval"
   ]
  },
  {
   "cell_type": "markdown",
   "metadata": {},
   "source": [
    "### Calculation of Chi2s"
   ]
  },
  {
   "cell_type": "code",
   "execution_count": 9,
   "metadata": {},
   "outputs": [
    {
     "name": "stdout",
     "output_type": "stream",
     "text": [
      "chi2_grid1 calculated in 0 min 24.3 s.\n",
      "chi2_grid2 calculated in 0 min 24.2 s.\n"
     ]
    }
   ],
   "source": [
    "t = time()\n",
    "chi2_om_sig8 = Parallel(n_jobs=-1)(delayed(chi2_om_s8_func)(omega, sigma, gamma_min, gamma_max, chi2_func) for omega in omega_vals for sigma in sigma_vals)\n",
    "chi2_grid1 = np.array(chi2_om_sig8).reshape(n_om, n_s8)\n",
    "t = time() - t\n",
    "print(\"chi2_grid1 calculated in\", int(t//60), \"min\", round(t%60,1), \"s.\")\n",
    "\n",
    "\n",
    "t = time()\n",
    "chi2_om_gamma = Parallel(n_jobs=-1)(delayed(chi2_om_gamma_func)(omega, gamma, s8_min, s8_max, chi2_func) for omega in omega_vals for gamma in gamma_vals)\n",
    "chi2_grid2 = np.array(chi2_om_gamma).reshape(n_om, n_gamma)\n",
    "t = time() - t\n",
    "print(\"chi2_grid2 calculated in\", int(t//60), \"min\", round(t%60,1), \"s.\")\n"
   ]
  },
  {
   "cell_type": "markdown",
   "metadata": {},
   "source": [
    "### Plot"
   ]
  },
  {
   "cell_type": "code",
   "execution_count": 11,
   "metadata": {},
   "outputs": [
    {
     "name": "stdout",
     "output_type": "stream",
     "text": [
      "(0.4, 1.0)\n",
      "Incertitude $\\sigma_8$ : xmin = 0.40, xmax = 1.20 : (+0.0, -0.8)\n",
      "Incertitude $\\Omega_m$ : ymin = 1.00, ymax = 1.00 : (+0.0, -0.0)\n",
      "\n"
     ]
    },
    {
     "data": {
      "image/png": "[encoded data removed]",
      "text/plain": [
       "<Figure size 600x500 with 1 Axes>"
      ]
     },
     "metadata": {},
     "output_type": "display_data"
    },
    {
     "name": "stdout",
     "output_type": "stream",
     "text": [
      "(-0.5, 1.0)\n",
      "Incertitude $\\gamma$ : xmin = -0.50, xmax = 2.00 : (+0.0, -2.5)\n",
      "Incertitude $\\Omega_m$ : ymin = 1.00, ymax = 1.00 : (+0.0, -0.0)\n",
      "\n"
     ]
    },
    {
     "data": {
      "image/png": "[encoded data removed]",
      "text/plain": [
       "<Figure size 600x500 with 1 Axes>"
      ]
     },
     "metadata": {},
     "output_type": "display_data"
    }
   ],
   "source": [
    "def display_one_chi2(chi2_grid, ax, axis):\n",
    "    levels = [2.3, 6.17, 11.8]\n",
    "    colors = ['khaki', 'lightsalmon', 'mediumpurple']\n",
    "\n",
    "    axes_titles = [\n",
    "        (r'$\\sigma_8$', r'$\\Omega_m$'),\n",
    "        (r'$\\gamma$', r'$\\Omega_m$'),\n",
    "        (r'$\\gamma$', r'$\\sigma_8$')\n",
    "    ]\n",
    "\n",
    "    sigma_vals = np.asarray(np.linspace(s8_min, s8_max, chi2_grid.shape[1]))\n",
    "    omega_vals = np.asarray(np.linspace(om_min, om_max, chi2_grid.shape[0]))\n",
    "    gamma_vals = np.asarray(np.linspace(gamma_min, gamma_max, chi2_grid.shape[1]))\n",
    "\n",
    "    if axis == 0:\n",
    "        X, Y = np.meshgrid(sigma_vals, omega_vals)\n",
    "    elif axis == 1:\n",
    "        X, Y = np.meshgrid(gamma_vals, omega_vals)\n",
    "    elif axis == 2:\n",
    "        X, Y = np.meshgrid(gamma_vals, sigma_vals)\n",
    "\n",
    "    chi2_min = np.min(chi2_grid)\n",
    "    delta_chi2 = chi2_grid - chi2_min\n",
    "    delta_chi2_clipped = np.clip(delta_chi2, a_min=None, a_max=levels[2])\n",
    "\n",
    "    cf = ax.contourf(X, Y, delta_chi2_clipped, levels=100, cmap='inferno_r')\n",
    "    for level, color in zip(levels, colors):\n",
    "        cs = ax.contour(X, Y, delta_chi2, levels=[level], colors=[color], linewidths=2)\n",
    "\n",
    "        if level == 2.3:\n",
    "            mask = delta_chi2 <= level\n",
    "            x_coords = X[mask]\n",
    "            y_coords = Y[mask]\n",
    "\n",
    "            xmin, xmax = np.min(x_coords), np.max(x_coords)\n",
    "            ymin, ymax = np.min(y_coords), np.max(y_coords)\n",
    "\n",
    "    legend_handles = [\n",
    "        Patch(color='khaki', label=r'$1\\sigma$'),\n",
    "        Patch(color='lightsalmon', label=r'$2\\sigma$'),\n",
    "        Patch(color='mediumpurple', label=r'$3\\sigma$')\n",
    "    ]\n",
    "    ax.legend(handles=legend_handles, loc='upper right')\n",
    "\n",
    "    min_idx = np.unravel_index(np.argmin(delta_chi2), delta_chi2.shape)\n",
    "    x_min = X[min_idx]\n",
    "    y_min = Y[min_idx]\n",
    "    ax.axhline(y_min, color='indigo', linestyle='--')\n",
    "    ax.axvline(x_min, color='indigo', linestyle='--')\n",
    "\n",
    "    print((x_min, y_min))\n",
    "    xlabel, ylabel = axes_titles[axis]\n",
    "    print(f\"Incertitude {xlabel} : xmin = {xmin:.2f}, xmax = {xmax:.2f} : (+{round(x_min - xmin, 2)}, -{round(xmax - x_min, 2)})\")\n",
    "    print(f\"Incertitude {ylabel} : ymin = {ymin:.2f}, ymax = {ymax:.2f} : (+{round(y_min - ymin, 2)}, -{round(ymax - y_min, 2)})\\n\")\n",
    "\n",
    "    latex_text = fr\"{ylabel} : {y_min:.3f}\"\n",
    "    ax.text(0.78, 0.56, latex_text, transform=ax.transAxes, color=\"white\", fontsize=14,\n",
    "            verticalalignment='top', horizontalalignment='left')\n",
    "\n",
    "    ax.set_xlabel(xlabel)\n",
    "    ax.set_ylabel(ylabel)\n",
    "    ax.set_facecolor('black')\n",
    "\n",
    "fig, ax = plt.subplots(1, 1, figsize=(6, 5))\n",
    "plt.rcParams.update({\"text.usetex\": True})\n",
    "fig.suptitle(r\"1$\\sigma$, 2$\\sigma$, 3$\\sigma$ contours from $\\Delta \\chi^2$ minimization - $\\textbf{ACT-DR6}$\", fontsize=14)\n",
    "display_one_chi2(chi2_grid1, ax, axis=0)\n",
    "plt.tight_layout(rect=[0, 0.03, 1, 0.95])\n",
    "plt.show()\n",
    "\n",
    "fig, ax = plt.subplots(1, 1, figsize=(6, 5))\n",
    "plt.rcParams.update({\"text.usetex\": True})\n",
    "fig.suptitle(r\"1$\\sigma$, 2$\\sigma$, 3$\\sigma$ contours from $\\Delta \\chi^2$ minimization - $\\textbf{ACT-DR6}$\", fontsize=14)\n",
    "display_one_chi2(chi2_grid2, ax, axis=1)\n",
    "plt.tight_layout(rect=[0, 0.03, 1, 0.95])\n",
    "plt.show()\n"
   ]
  }
 ],
 "metadata": {
  "kernelspec": {
   "display_name": "virtual_env",
   "language": "python",
   "name": "python3"
  },
  "language_info": {
   "codemirror_mode": {
    "name": "ipython",
    "version": 3
   },
   "file_extension": ".py",
   "mimetype": "text/x-python",
   "name": "python",
   "nbconvert_exporter": "python",
   "pygments_lexer": "ipython3",
   "version": "3.13.5"
  }
 },
 "nbformat": 4,
 "nbformat_minor": 2
}
