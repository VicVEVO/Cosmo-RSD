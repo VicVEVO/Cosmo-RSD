{
 "cells": [
  {
   "cell_type": "code",
   "execution_count": 1,
   "metadata": {},
   "outputs": [],
   "source": [
    "import numpy as np\n",
    "\n",
    "from matplotlib import pyplot as plt\n",
    "from matplotlib.patches import Patch\n",
    "\n",
    "from classy import Class\n",
    "\n",
    "from iminuit import Minuit\n",
    "\n",
    "from numba import njit\n",
    "\n",
    "from functools import partial\n",
    "\n",
    "from joblib import Parallel, delayed\n",
    "\n",
    "import constants, functions"
   ]
  },
  {
   "cell_type": "code",
   "execution_count": null,
   "metadata": {},
   "outputs": [],
   "source": [
    "z_data = np.asarray(constants.z_data)\n",
    "fs8_data = np.asarray(constants.fs8_data)\n",
    "fs8_err_plus = np.asarray(constants.fs8_err_plus)\n",
    "fs8_err_minus = np.asarray(constants.fs8_err_minus)\n",
    "\n",
    "z_data_panth = np.asarray(constants.z_data_panth)\n",
    "is_calibrator_panth = np.asarray(constants.is_calibrator_panth)\n",
    "m_b_corr_panth = np.asarray(constants.m_b_corr_panth)\n",
    "ceph_dist_panth = np.asarray(constants.ceph_dist_panth)\n",
    "inv_cov_panth = np.asarray(constants.inv_cov_panth)\n",
    "n_panth = constants.n_panth\n",
    "c = constants.C\n",
    "\n",
    "@njit\n",
    "def chi2_rsd_panth(z_data, fs8_data, fs8_err_plus, fs8_err_minus, n_panth, z_data_panth, is_calibrator_panth, m_b_corr_panth, ceph_dist_panth, inv_cov_panth, omega, sigma, gamma, H0, M, c):\n",
    "    return functions.chi2_rsd(z_data, fs8_data, fs8_err_plus, fs8_err_minus, omega, sigma, gamma) + functions.chi2_panth(n_panth, z_data_panth, is_calibrator_panth, m_b_corr_panth, ceph_dist_panth, inv_cov_panth, omega, H0, M, c)\n",
    "\n",
    "chi2_func = partial(\n",
    "    functions.chi2_rsd_panth,\n",
    "    z_data,\n",
    "    fs8_data,\n",
    "    fs8_err_plus,\n",
    "    fs8_err_minus,\n",
    "    n_panth,\n",
    "    z_data_panth,\n",
    "    is_calibrator_panth,\n",
    "    m_b_corr_panth,\n",
    "    ceph_dist_panth,\n",
    "    inv_cov_panth\n",
    ")\n",
    "\n",
    "n_om = 100\n",
    "n_s8 = 100\n",
    "n_gamma = 100\n",
    "\n",
    "om_min = .05\n",
    "om_max = 1\n",
    "\n",
    "s8_min = 0.4\n",
    "s8_max = 1.2\n",
    "\n",
    "gamma_min = -0.5\n",
    "gamma_max = 2\n",
    "\n",
    "def chi2_om_s8_func(omega, sigma, gamma_min, gamma_max, chi2_func):\n",
    "    minimizer = Minuit(chi2_func, omega=omega, sigma=sigma, gamma=0.55, H0 = 73.4, M=-19.25, c=constants.C)\n",
    "    minimizer.fixed[\"omega\"] = True\n",
    "    minimizer.fixed[\"sigma\"] = True\n",
    "    minimizer.limits[\"gamma\"] = (gamma_min, gamma_max)\n",
    "    minimizer.limits[\"H0\"] = (0, 200)\n",
    "    minimizer.fixed[\"M\"] = True\n",
    "    minimizer.fixed[\"c\"] = True\n",
    "    minimizer.migrad()\n",
    "    return minimizer.fval\n",
    "\n",
    "omega_vals = np.asarray(np.linspace(om_min, om_max, n_om))\n",
    "sigma_vals = np.asarray(np.linspace(s8_min, s8_max, n_s8))\n",
    "gamma_vals = np.asarray(np.linspace(gamma_min, gamma_max, n_gamma))"
   ]
  },
  {
   "cell_type": "code",
   "execution_count": null,
   "metadata": {},
   "outputs": [],
   "source": [
    "data = np.load(\"../output/chi2_SN1a/chi2_grids.npz\")"
   ]
  }
 ],
 "metadata": {
  "kernelspec": {
   "display_name": "virtual_env",
   "language": "python",
   "name": "python3"
  },
  "language_info": {
   "codemirror_mode": {
    "name": "ipython",
    "version": 3
   },
   "file_extension": ".py",
   "mimetype": "text/x-python",
   "name": "python",
   "nbconvert_exporter": "python",
   "pygments_lexer": "ipython3",
   "version": "3.13.5"
  }
 },
 "nbformat": 4,
 "nbformat_minor": 2
}
