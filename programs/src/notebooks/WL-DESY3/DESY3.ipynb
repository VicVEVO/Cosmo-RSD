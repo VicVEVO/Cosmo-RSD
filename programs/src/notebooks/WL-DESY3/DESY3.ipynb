{
 "cells": [
  {
   "cell_type": "code",
   "execution_count": 7,
   "metadata": {},
   "outputs": [],
   "source": [
    "from astropy.io import fits\n",
    "\n",
    "file_path = 'DES-Y3_xipm_and_KiDS-1000_COSEBIs_2.0_300.0.fits'\n",
    "\n",
    "with fits.open(file_path) as hdul:\n",
    "    # hdul.info()\n",
    "    xip_data = hdul['xip'].data\n",
    "    xim_data = hdul['xim'].data\n",
    "    desy3_covmat = hdul['COVMAT'].data\n",
    "\n",
    "xi_minus_data = xim_data['VALUE']\n",
    "xi_minus_ang = xim_data['ANG']\n",
    "xi_plus_data = xip_data['VALUE']\n",
    "xi_plus_ang = xip_data['ANG']\n"
   ]
  },
  {
   "cell_type": "code",
   "execution_count": 19,
   "metadata": {},
   "outputs": [],
   "source": [
    "import numpy as np\n",
    "from numba import njit\n",
    "\n",
    "nb_l = 1\n",
    "\n",
    "def derivative(x:float, l:int, n:int):\n",
    "    result = (x**2 + 1)**l\n",
    "    for _ in range(n):\n",
    "        result = 2 * l * x * (x**2 + 1)**(l - 1)\n",
    "        l -= 1\n",
    "    return result\n",
    "\n",
    "def richardson_extrapolation(f, x, l, n, h=1e-5):\n",
    "    def derivative_order_n(f, x, l, n, h):\n",
    "        result = 0\n",
    "        for k in range(2*n + 1):\n",
    "            coeff = (-1)**k * np.math.comb(2*n, k)\n",
    "            result += coeff * f(x + (k - n) * h, l)\n",
    "        return result / (h**n)\n",
    "\n",
    "    D1 = derivative_order_n(f, x, l, n, h)\n",
    "    D2 = derivative_order_n(f, x, l, n, h / 2)\n",
    "    if n==0:\n",
    "        return 0\n",
    "    return (4**n * D2 - D1) / (4**n - 1)\n",
    "\n",
    "def f(x:float, l:int):\n",
    "    return (x**2 + 1)**l\n",
    "\n",
    "def P(x:float, l:int, m:int):\n",
    "    return (1-x**2)/(2**l * np.math.factorial(l)) * richardson_extrapolation(f, x, l, l+m)\n",
    "\n",
    "def Gp(x:float, l:int, m:int=2):\n",
    "    return - ( (l-m**2) / (1-x**2) + 0.5 * l * (l-1) ) * P(x, l, m) + (l+m) * (x / (1-x**2)) * P(x, l-1, m)\n",
    "\n",
    "def Gm(theta:float):\n",
    "    return m * ( (l-1) * x / (1-x**2) * P(x, l, m) - (l+m) * (1 / (1-x**2)) * P(x, l-1, m))\n",
    "\n",
    "def ClEE(l:int, i:int, j:int):\n",
    "    return 0.0\n",
    "\n",
    "def ClBB(l:int, i:int, j:int):\n",
    "    return 0.0\n",
    "\n",
    "def xip(theta:float, i:int, j:int):\n",
    "    xi = 0.0\n",
    "    for l in range(nb_l):\n",
    "        xi += (2*l + 1)/(2*np.pi*(l+1)**2) * (Gp(np.cos(theta)) + Gm(np.cos(theta))) * (ClEE(l, i, j) + ClBB(l, i, j))\n",
    "    return xi\n"
   ]
  },
  {
   "cell_type": "code",
   "execution_count": 30,
   "metadata": {},
   "outputs": [
    {
     "name": "stderr",
     "output_type": "stream",
     "text": [
      "/tmp/ipykernel_3430/548842123.py:31: DeprecationWarning: `np.math` is a deprecated alias for the standard library `math` module (Deprecated Numpy 1.25). Replace usages of `np.math` with `math`\n",
      "  return (1-x**2)/(2**l * np.math.factorial(l)) * richardson_extrapolation(f, x, l, l+m)\n",
      "/tmp/ipykernel_3430/548842123.py:17: DeprecationWarning: `np.math` is a deprecated alias for the standard library `math` module (Deprecated Numpy 1.25). Replace usages of `np.math` with `math`\n",
      "  coeff = (-1)**k * np.math.comb(2*n, k)\n"
     ]
    },
    {
     "data": {
      "text/plain": [
       "0.0"
      ]
     },
     "execution_count": 30,
     "metadata": {},
     "output_type": "execute_result"
    }
   ],
   "source": [
    "P(1,10,10)"
   ]
  }
 ],
 "metadata": {
  "kernelspec": {
   "display_name": "virtual_env",
   "language": "python",
   "name": "python3"
  },
  "language_info": {
   "codemirror_mode": {
    "name": "ipython",
    "version": 3
   },
   "file_extension": ".py",
   "mimetype": "text/x-python",
   "name": "python",
   "nbconvert_exporter": "python",
   "pygments_lexer": "ipython3",
   "version": "3.13.5"
  }
 },
 "nbformat": 4,
 "nbformat_minor": 2
}
